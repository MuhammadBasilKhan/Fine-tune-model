{
  "nbformat": 4,
  "nbformat_minor": 0,
  "metadata": {
    "colab": {
      "provenance": [],
      "gpuType": "T4",
      "authorship_tag": "ABX9TyNKAqxDW9QvDot/gFdURZtB",
      "include_colab_link": true
    },
    "kernelspec": {
      "name": "python3",
      "display_name": "Python 3"
    },
    "language_info": {
      "name": "python"
    },
    "accelerator": "GPU"
  },
  "cells": [
    {
      "cell_type": "markdown",
      "metadata": {
        "id": "view-in-github",
        "colab_type": "text"
      },
      "source": [
        "<a href=\"https://colab.research.google.com/github/MuhammadBasilKhan/Fine-tune-model/blob/main/vgg16_on_mnistdata.ipynb\" target=\"_parent\"><img src=\"https://colab.research.google.com/assets/colab-badge.svg\" alt=\"Open In Colab\"/></a>"
      ]
    },
    {
      "cell_type": "code",
      "execution_count": 1,
      "metadata": {
        "id": "i0pQFQTK5UK-"
      },
      "outputs": [],
      "source": [
        "import numpy as np # linear algebra\n",
        "import pandas as pd # data processing, CSV file I/O (e.g. pd.read_csv)\n",
        "\n",
        "# Input data files are available in the read-only \"../input/\" directory\n",
        "# For example, running this (by clicking run or pressing Shift+Enter) will list all files under the input directory\n",
        "\n",
        "import os\n",
        "for dirname, _, filenames in os.walk('/kaggle/input'):\n",
        "    for filename in filenames:\n",
        "        print(os.path.join(dirname, filename))\n"
      ]
    },
    {
      "cell_type": "code",
      "source": [
        "pip install tensorflow\n"
      ],
      "metadata": {
        "colab": {
          "base_uri": "https://localhost:8080/"
        },
        "id": "gniDJMz8C4fF",
        "outputId": "6c1dfcf2-0ad1-4e00-9696-a55eee8ae55b"
      },
      "execution_count": 2,
      "outputs": [
        {
          "output_type": "stream",
          "name": "stdout",
          "text": [
            "Requirement already satisfied: tensorflow in /usr/local/lib/python3.10/dist-packages (2.15.0)\n",
            "Requirement already satisfied: absl-py>=1.0.0 in /usr/local/lib/python3.10/dist-packages (from tensorflow) (1.4.0)\n",
            "Requirement already satisfied: astunparse>=1.6.0 in /usr/local/lib/python3.10/dist-packages (from tensorflow) (1.6.3)\n",
            "Requirement already satisfied: flatbuffers>=23.5.26 in /usr/local/lib/python3.10/dist-packages (from tensorflow) (23.5.26)\n",
            "Requirement already satisfied: gast!=0.5.0,!=0.5.1,!=0.5.2,>=0.2.1 in /usr/local/lib/python3.10/dist-packages (from tensorflow) (0.5.4)\n",
            "Requirement already satisfied: google-pasta>=0.1.1 in /usr/local/lib/python3.10/dist-packages (from tensorflow) (0.2.0)\n",
            "Requirement already satisfied: h5py>=2.9.0 in /usr/local/lib/python3.10/dist-packages (from tensorflow) (3.9.0)\n",
            "Requirement already satisfied: libclang>=13.0.0 in /usr/local/lib/python3.10/dist-packages (from tensorflow) (16.0.6)\n",
            "Requirement already satisfied: ml-dtypes~=0.2.0 in /usr/local/lib/python3.10/dist-packages (from tensorflow) (0.2.0)\n",
            "Requirement already satisfied: numpy<2.0.0,>=1.23.5 in /usr/local/lib/python3.10/dist-packages (from tensorflow) (1.23.5)\n",
            "Requirement already satisfied: opt-einsum>=2.3.2 in /usr/local/lib/python3.10/dist-packages (from tensorflow) (3.3.0)\n",
            "Requirement already satisfied: packaging in /usr/local/lib/python3.10/dist-packages (from tensorflow) (23.2)\n",
            "Requirement already satisfied: protobuf!=4.21.0,!=4.21.1,!=4.21.2,!=4.21.3,!=4.21.4,!=4.21.5,<5.0.0dev,>=3.20.3 in /usr/local/lib/python3.10/dist-packages (from tensorflow) (3.20.3)\n",
            "Requirement already satisfied: setuptools in /usr/local/lib/python3.10/dist-packages (from tensorflow) (67.7.2)\n",
            "Requirement already satisfied: six>=1.12.0 in /usr/local/lib/python3.10/dist-packages (from tensorflow) (1.16.0)\n",
            "Requirement already satisfied: termcolor>=1.1.0 in /usr/local/lib/python3.10/dist-packages (from tensorflow) (2.4.0)\n",
            "Requirement already satisfied: typing-extensions>=3.6.6 in /usr/local/lib/python3.10/dist-packages (from tensorflow) (4.5.0)\n",
            "Requirement already satisfied: wrapt<1.15,>=1.11.0 in /usr/local/lib/python3.10/dist-packages (from tensorflow) (1.14.1)\n",
            "Requirement already satisfied: tensorflow-io-gcs-filesystem>=0.23.1 in /usr/local/lib/python3.10/dist-packages (from tensorflow) (0.35.0)\n",
            "Requirement already satisfied: grpcio<2.0,>=1.24.3 in /usr/local/lib/python3.10/dist-packages (from tensorflow) (1.60.0)\n",
            "Requirement already satisfied: tensorboard<2.16,>=2.15 in /usr/local/lib/python3.10/dist-packages (from tensorflow) (2.15.1)\n",
            "Requirement already satisfied: tensorflow-estimator<2.16,>=2.15.0 in /usr/local/lib/python3.10/dist-packages (from tensorflow) (2.15.0)\n",
            "Requirement already satisfied: keras<2.16,>=2.15.0 in /usr/local/lib/python3.10/dist-packages (from tensorflow) (2.15.0)\n",
            "Requirement already satisfied: wheel<1.0,>=0.23.0 in /usr/local/lib/python3.10/dist-packages (from astunparse>=1.6.0->tensorflow) (0.42.0)\n",
            "Requirement already satisfied: google-auth<3,>=1.6.3 in /usr/local/lib/python3.10/dist-packages (from tensorboard<2.16,>=2.15->tensorflow) (2.17.3)\n",
            "Requirement already satisfied: google-auth-oauthlib<2,>=0.5 in /usr/local/lib/python3.10/dist-packages (from tensorboard<2.16,>=2.15->tensorflow) (1.2.0)\n",
            "Requirement already satisfied: markdown>=2.6.8 in /usr/local/lib/python3.10/dist-packages (from tensorboard<2.16,>=2.15->tensorflow) (3.5.2)\n",
            "Requirement already satisfied: requests<3,>=2.21.0 in /usr/local/lib/python3.10/dist-packages (from tensorboard<2.16,>=2.15->tensorflow) (2.31.0)\n",
            "Requirement already satisfied: tensorboard-data-server<0.8.0,>=0.7.0 in /usr/local/lib/python3.10/dist-packages (from tensorboard<2.16,>=2.15->tensorflow) (0.7.2)\n",
            "Requirement already satisfied: werkzeug>=1.0.1 in /usr/local/lib/python3.10/dist-packages (from tensorboard<2.16,>=2.15->tensorflow) (3.0.1)\n",
            "Requirement already satisfied: cachetools<6.0,>=2.0.0 in /usr/local/lib/python3.10/dist-packages (from google-auth<3,>=1.6.3->tensorboard<2.16,>=2.15->tensorflow) (5.3.2)\n",
            "Requirement already satisfied: pyasn1-modules>=0.2.1 in /usr/local/lib/python3.10/dist-packages (from google-auth<3,>=1.6.3->tensorboard<2.16,>=2.15->tensorflow) (0.3.0)\n",
            "Requirement already satisfied: rsa<5,>=3.1.4 in /usr/local/lib/python3.10/dist-packages (from google-auth<3,>=1.6.3->tensorboard<2.16,>=2.15->tensorflow) (4.9)\n",
            "Requirement already satisfied: requests-oauthlib>=0.7.0 in /usr/local/lib/python3.10/dist-packages (from google-auth-oauthlib<2,>=0.5->tensorboard<2.16,>=2.15->tensorflow) (1.3.1)\n",
            "Requirement already satisfied: charset-normalizer<4,>=2 in /usr/local/lib/python3.10/dist-packages (from requests<3,>=2.21.0->tensorboard<2.16,>=2.15->tensorflow) (3.3.2)\n",
            "Requirement already satisfied: idna<4,>=2.5 in /usr/local/lib/python3.10/dist-packages (from requests<3,>=2.21.0->tensorboard<2.16,>=2.15->tensorflow) (3.6)\n",
            "Requirement already satisfied: urllib3<3,>=1.21.1 in /usr/local/lib/python3.10/dist-packages (from requests<3,>=2.21.0->tensorboard<2.16,>=2.15->tensorflow) (2.0.7)\n",
            "Requirement already satisfied: certifi>=2017.4.17 in /usr/local/lib/python3.10/dist-packages (from requests<3,>=2.21.0->tensorboard<2.16,>=2.15->tensorflow) (2023.11.17)\n",
            "Requirement already satisfied: MarkupSafe>=2.1.1 in /usr/local/lib/python3.10/dist-packages (from werkzeug>=1.0.1->tensorboard<2.16,>=2.15->tensorflow) (2.1.4)\n",
            "Requirement already satisfied: pyasn1<0.6.0,>=0.4.6 in /usr/local/lib/python3.10/dist-packages (from pyasn1-modules>=0.2.1->google-auth<3,>=1.6.3->tensorboard<2.16,>=2.15->tensorflow) (0.5.1)\n",
            "Requirement already satisfied: oauthlib>=3.0.0 in /usr/local/lib/python3.10/dist-packages (from requests-oauthlib>=0.7.0->google-auth-oauthlib<2,>=0.5->tensorboard<2.16,>=2.15->tensorflow) (3.2.2)\n"
          ]
        }
      ]
    },
    {
      "cell_type": "code",
      "source": [
        "import numpy as np\n",
        "from tensorflow.keras.applications.vgg16 import VGG16\n",
        "import tensorflow.keras as k\n",
        "from tensorflow.keras.models import Sequential\n",
        "from tensorflow.keras.layers import Dense, Flatten, Dropout\n",
        "from tensorflow.keras.datasets import mnist\n",
        "from tensorflow.keras.utils import to_categorical\n",
        "from tensorflow.keras import optimizers\n",
        "from tensorflow.keras.callbacks import ModelCheckpoint, EarlyStopping, LearningRateScheduler\n",
        "from tensorflow.keras.preprocessing.image import ImageDataGenerator\n",
        "from sklearn.metrics import accuracy_score"
      ],
      "metadata": {
        "id": "LVaTuXe7_QZn"
      },
      "execution_count": 3,
      "outputs": []
    },
    {
      "cell_type": "code",
      "source": [
        "vgg16_model = VGG16(weights='imagenet',\n",
        "                    include_top=False,\n",
        "                    classes=10,\n",
        "                    input_shape=(32,32,3)# input: 32x32 images with 3 channels -> (32, 32, 3) tensors.\n",
        "                   )"
      ],
      "metadata": {
        "colab": {
          "base_uri": "https://localhost:8080/"
        },
        "id": "fSKkcn66CeYo",
        "outputId": "580a75e0-aa25-4984-8608-446d7a9e5c83"
      },
      "execution_count": 4,
      "outputs": [
        {
          "output_type": "stream",
          "name": "stdout",
          "text": [
            "Downloading data from https://storage.googleapis.com/tensorflow/keras-applications/vgg16/vgg16_weights_tf_dim_ordering_tf_kernels_notop.h5\n",
            "58889256/58889256 [==============================] - 1s 0us/step\n"
          ]
        }
      ]
    },
    {
      "cell_type": "code",
      "source": [
        "model = Sequential()\n",
        "for layer in vgg16_model.layers:\n",
        "    model.add(layer)"
      ],
      "metadata": {
        "id": "QJkGge_PDF7H"
      },
      "execution_count": 5,
      "outputs": []
    },
    {
      "cell_type": "code",
      "source": [
        "from tensorflow.keras.layers import Dense, Flatten, Dropout\n",
        "model.add(Flatten())\n",
        "model.add(Dense(512, activation='relu', name='hidden1'))\n",
        "model.add(Dropout(0.4))\n",
        "model.add(Dense(256, activation='relu', name='hidden2'))\n",
        "model.add(Dropout(0.4))\n",
        "model.add(Dense(10, activation='softmax', name='predictions'))\n",
        "\n",
        "model.summary()"
      ],
      "metadata": {
        "colab": {
          "base_uri": "https://localhost:8080/"
        },
        "id": "xjJ6uYqRDImv",
        "outputId": "20392af8-cf71-49b1-df85-83ddd446266d"
      },
      "execution_count": 6,
      "outputs": [
        {
          "output_type": "stream",
          "name": "stdout",
          "text": [
            "Model: \"sequential\"\n",
            "_________________________________________________________________\n",
            " Layer (type)                Output Shape              Param #   \n",
            "=================================================================\n",
            " block1_conv1 (Conv2D)       (None, 32, 32, 64)        1792      \n",
            "                                                                 \n",
            " block1_conv2 (Conv2D)       (None, 32, 32, 64)        36928     \n",
            "                                                                 \n",
            " block1_pool (MaxPooling2D)  (None, 16, 16, 64)        0         \n",
            "                                                                 \n",
            " block2_conv1 (Conv2D)       (None, 16, 16, 128)       73856     \n",
            "                                                                 \n",
            " block2_conv2 (Conv2D)       (None, 16, 16, 128)       147584    \n",
            "                                                                 \n",
            " block2_pool (MaxPooling2D)  (None, 8, 8, 128)         0         \n",
            "                                                                 \n",
            " block3_conv1 (Conv2D)       (None, 8, 8, 256)         295168    \n",
            "                                                                 \n",
            " block3_conv2 (Conv2D)       (None, 8, 8, 256)         590080    \n",
            "                                                                 \n",
            " block3_conv3 (Conv2D)       (None, 8, 8, 256)         590080    \n",
            "                                                                 \n",
            " block3_pool (MaxPooling2D)  (None, 4, 4, 256)         0         \n",
            "                                                                 \n",
            " block4_conv1 (Conv2D)       (None, 4, 4, 512)         1180160   \n",
            "                                                                 \n",
            " block4_conv2 (Conv2D)       (None, 4, 4, 512)         2359808   \n",
            "                                                                 \n",
            " block4_conv3 (Conv2D)       (None, 4, 4, 512)         2359808   \n",
            "                                                                 \n",
            " block4_pool (MaxPooling2D)  (None, 2, 2, 512)         0         \n",
            "                                                                 \n",
            " block5_conv1 (Conv2D)       (None, 2, 2, 512)         2359808   \n",
            "                                                                 \n",
            " block5_conv2 (Conv2D)       (None, 2, 2, 512)         2359808   \n",
            "                                                                 \n",
            " block5_conv3 (Conv2D)       (None, 2, 2, 512)         2359808   \n",
            "                                                                 \n",
            " block5_pool (MaxPooling2D)  (None, 1, 1, 512)         0         \n",
            "                                                                 \n",
            " flatten (Flatten)           (None, 512)               0         \n",
            "                                                                 \n",
            " hidden1 (Dense)             (None, 512)               262656    \n",
            "                                                                 \n",
            " dropout (Dropout)           (None, 512)               0         \n",
            "                                                                 \n",
            " hidden2 (Dense)             (None, 256)               131328    \n",
            "                                                                 \n",
            " dropout_1 (Dropout)         (None, 256)               0         \n",
            "                                                                 \n",
            " predictions (Dense)         (None, 10)                2570      \n",
            "                                                                 \n",
            "=================================================================\n",
            "Total params: 15111242 (57.64 MB)\n",
            "Trainable params: 15111242 (57.64 MB)\n",
            "Non-trainable params: 0 (0.00 Byte)\n",
            "_________________________________________________________________\n"
          ]
        }
      ]
    },
    {
      "cell_type": "code",
      "source": [
        "(X_train, y_train), (X_test, y_test) = k.datasets.cifar10.load_data()\n",
        "\n",
        "print(\"******************\")\n",
        "print(X_train.shape)\n",
        "print(y_train.shape)\n",
        "print(X_test.shape)\n",
        "print(y_test.shape)"
      ],
      "metadata": {
        "colab": {
          "base_uri": "https://localhost:8080/"
        },
        "id": "-zht9S8vDK2X",
        "outputId": "4d7fdc75-20a7-405a-e5ff-91859860e7a2"
      },
      "execution_count": 7,
      "outputs": [
        {
          "output_type": "stream",
          "name": "stdout",
          "text": [
            "Downloading data from https://www.cs.toronto.edu/~kriz/cifar-10-python.tar.gz\n",
            "170498071/170498071 [==============================] - 5s 0us/step\n",
            "******************\n",
            "(50000, 32, 32, 3)\n",
            "(50000, 1)\n",
            "(10000, 32, 32, 3)\n",
            "(10000, 1)\n"
          ]
        }
      ]
    },
    {
      "cell_type": "code",
      "source": [
        "y_train_ohe = to_categorical(y_train, num_classes = 10)\n",
        "y_test_ohe = to_categorical(y_test, num_classes = 10)"
      ],
      "metadata": {
        "id": "AOCJH5IZDN6_"
      },
      "execution_count": 8,
      "outputs": []
    },
    {
      "cell_type": "code",
      "source": [
        "X_train = X_train.astype('float32')\n",
        "X_test = X_test.astype('float32')\n",
        "X_train  /= 255\n",
        "X_test /= 255\n",
        "\n",
        "print(\"******************\")\n",
        "print(X_train.shape)\n",
        "print(y_train_ohe.shape)\n",
        "print(X_test.shape)\n",
        "print(y_test_ohe.shape)"
      ],
      "metadata": {
        "colab": {
          "base_uri": "https://localhost:8080/"
        },
        "id": "Amju0JwzDQpX",
        "outputId": "2cb5f4b7-a880-4e36-e817-930217c2bbe1"
      },
      "execution_count": 9,
      "outputs": [
        {
          "output_type": "stream",
          "name": "stdout",
          "text": [
            "******************\n",
            "(50000, 32, 32, 3)\n",
            "(50000, 10)\n",
            "(10000, 32, 32, 3)\n",
            "(10000, 10)\n"
          ]
        }
      ]
    },
    {
      "cell_type": "code",
      "source": [
        "X_val = X_train[40000:]\n",
        "y_val = y_train_ohe[40000:]\n",
        "print(X_val.shape)\n",
        "print(y_val.shape)"
      ],
      "metadata": {
        "colab": {
          "base_uri": "https://localhost:8080/"
        },
        "id": "3oNDIYjbDTKP",
        "outputId": "90f5345c-672f-4c6b-c22b-48026ae56d31"
      },
      "execution_count": 10,
      "outputs": [
        {
          "output_type": "stream",
          "name": "stdout",
          "text": [
            "(10000, 32, 32, 3)\n",
            "(10000, 10)\n"
          ]
        }
      ]
    },
    {
      "cell_type": "code",
      "source": [
        "X_train = X_train[:40000]\n",
        "y_train_ohe = y_train_ohe[:40000]\n",
        "print(X_train.shape)\n",
        "print(y_train_ohe.shape)"
      ],
      "metadata": {
        "colab": {
          "base_uri": "https://localhost:8080/"
        },
        "id": "DFFwm-DQDWA_",
        "outputId": "1ecf8ea5-895a-437d-bafc-3b520c4a4dba"
      },
      "execution_count": 11,
      "outputs": [
        {
          "output_type": "stream",
          "name": "stdout",
          "text": [
            "(40000, 32, 32, 3)\n",
            "(40000, 10)\n"
          ]
        }
      ]
    },
    {
      "cell_type": "code",
      "source": [
        "sgd = optimizers.SGD(lr=0.001, momentum=0.9)\n",
        "\n",
        "# For a multi-class classification problem\n",
        "model.compile(loss='categorical_crossentropy',optimizer= sgd,metrics=['accuracy'])\n",
        "\n",
        "\n",
        "def lr_scheduler(epoch):\n",
        "    return 0.001 * (0.5 ** (epoch // 20))\n",
        "reduce_lr = LearningRateScheduler(lr_scheduler)\n",
        "\n",
        "mc = ModelCheckpoint('./weights.h5', monitor='val_accuracy', save_best_only=True, mode='max')\n",
        "\n",
        "\n",
        "# initialize the number of epochs and batch size\n",
        "EPOCHS = 100\n",
        "BS = 128\n",
        "\n",
        "# construct the training image generator for data augmentation\n",
        "aug = ImageDataGenerator(\n",
        "    rotation_range=20,\n",
        "    zoom_range=0.15,\n",
        "    width_shift_range=0.2,\n",
        "    height_shift_range=0.2,\n",
        "    shear_range=0.15,\n",
        "    horizontal_flip=True,\n",
        "    fill_mode=\"nearest\")\n",
        "\n",
        "# train the model\n",
        "history = model.fit_generator(\n",
        "    aug.flow(X_train,y_train_ohe, batch_size=BS),\n",
        "    validation_data=(X_val,y_val),\n",
        "    steps_per_epoch=len(X_train) // BS,\n",
        "    epochs=EPOCHS,\n",
        "    callbacks=[reduce_lr,mc])\n",
        "\n",
        "#We load the best weights saved by the ModelCheckpoint\n",
        "model.load_weights('./weights.h5')"
      ],
      "metadata": {
        "colab": {
          "base_uri": "https://localhost:8080/"
        },
        "id": "38nV_pK4DX8m",
        "outputId": "755b37bf-1592-44e9-e760-35c6d96f13e7"
      },
      "execution_count": 12,
      "outputs": [
        {
          "output_type": "stream",
          "name": "stderr",
          "text": [
            "WARNING:absl:`lr` is deprecated in Keras optimizer, please use `learning_rate` or use the legacy optimizer, e.g.,tf.keras.optimizers.legacy.SGD.\n"
          ]
        },
        {
          "output_type": "stream",
          "name": "stdout",
          "text": [
            "Epoch 1/100\n"
          ]
        },
        {
          "output_type": "stream",
          "name": "stderr",
          "text": [
            "<ipython-input-12-87337afcb376>:29: UserWarning: `Model.fit_generator` is deprecated and will be removed in a future version. Please use `Model.fit`, which supports generators.\n",
            "  history = model.fit_generator(\n"
          ]
        },
        {
          "output_type": "stream",
          "name": "stdout",
          "text": [
            "312/312 [==============================] - ETA: 0s - loss: 1.7449 - accuracy: 0.3686"
          ]
        },
        {
          "output_type": "stream",
          "name": "stderr",
          "text": [
            "/usr/local/lib/python3.10/dist-packages/keras/src/engine/training.py:3103: UserWarning: You are saving your model as an HDF5 file via `model.save()`. This file format is considered legacy. We recommend using instead the native Keras format, e.g. `model.save('my_model.keras')`.\n",
            "  saving_api.save_model(\n"
          ]
        },
        {
          "output_type": "stream",
          "name": "stdout",
          "text": [
            "\b\b\b\b\b\b\b\b\b\b\b\b\b\b\b\b\b\b\b\b\b\b\b\b\b\b\b\b\b\b\b\b\b\b\b\b\b\b\b\b\b\b\b\b\b\b\b\b\b\b\b\b\b\b\b\b\b\b\b\b\b\b\b\b\b\b\b\b\b\b\b\b\b\b\b\b\b\b\b\b\b\b\b\b\r312/312 [==============================] - 44s 111ms/step - loss: 1.7449 - accuracy: 0.3686 - val_loss: 1.2071 - val_accuracy: 0.5694 - lr: 0.0010\n",
            "Epoch 2/100\n",
            "312/312 [==============================] - 30s 95ms/step - loss: 1.1766 - accuracy: 0.5904 - val_loss: 0.8505 - val_accuracy: 0.7002 - lr: 0.0010\n",
            "Epoch 3/100\n",
            "312/312 [==============================] - 30s 96ms/step - loss: 1.0003 - accuracy: 0.6603 - val_loss: 0.7392 - val_accuracy: 0.7473 - lr: 0.0010\n",
            "Epoch 4/100\n",
            "312/312 [==============================] - 30s 96ms/step - loss: 0.8992 - accuracy: 0.6962 - val_loss: 0.6945 - val_accuracy: 0.7597 - lr: 0.0010\n",
            "Epoch 5/100\n",
            "312/312 [==============================] - 29s 94ms/step - loss: 0.8324 - accuracy: 0.7207 - val_loss: 0.6076 - val_accuracy: 0.7893 - lr: 0.0010\n",
            "Epoch 6/100\n",
            "312/312 [==============================] - 30s 95ms/step - loss: 0.7790 - accuracy: 0.7398 - val_loss: 0.5637 - val_accuracy: 0.8087 - lr: 0.0010\n",
            "Epoch 7/100\n",
            "312/312 [==============================] - 29s 94ms/step - loss: 0.7416 - accuracy: 0.7507 - val_loss: 0.5695 - val_accuracy: 0.8036 - lr: 0.0010\n",
            "Epoch 8/100\n",
            "312/312 [==============================] - 30s 96ms/step - loss: 0.7054 - accuracy: 0.7654 - val_loss: 0.5353 - val_accuracy: 0.8153 - lr: 0.0010\n",
            "Epoch 9/100\n",
            "312/312 [==============================] - 29s 94ms/step - loss: 0.6715 - accuracy: 0.7757 - val_loss: 0.5321 - val_accuracy: 0.8158 - lr: 0.0010\n",
            "Epoch 10/100\n",
            "312/312 [==============================] - 29s 93ms/step - loss: 0.6451 - accuracy: 0.7855 - val_loss: 0.5577 - val_accuracy: 0.8095 - lr: 0.0010\n",
            "Epoch 11/100\n",
            "312/312 [==============================] - 29s 94ms/step - loss: 0.6234 - accuracy: 0.7915 - val_loss: 0.4819 - val_accuracy: 0.8335 - lr: 0.0010\n",
            "Epoch 12/100\n",
            "312/312 [==============================] - 30s 97ms/step - loss: 0.6011 - accuracy: 0.7982 - val_loss: 0.4803 - val_accuracy: 0.8339 - lr: 0.0010\n",
            "Epoch 13/100\n",
            "312/312 [==============================] - 29s 93ms/step - loss: 0.5715 - accuracy: 0.8089 - val_loss: 0.4756 - val_accuracy: 0.8380 - lr: 0.0010\n",
            "Epoch 14/100\n",
            "312/312 [==============================] - 29s 94ms/step - loss: 0.5540 - accuracy: 0.8142 - val_loss: 0.4835 - val_accuracy: 0.8358 - lr: 0.0010\n",
            "Epoch 15/100\n",
            "312/312 [==============================] - 29s 94ms/step - loss: 0.5415 - accuracy: 0.8181 - val_loss: 0.4219 - val_accuracy: 0.8528 - lr: 0.0010\n",
            "Epoch 16/100\n",
            "312/312 [==============================] - 29s 93ms/step - loss: 0.5207 - accuracy: 0.8250 - val_loss: 0.4618 - val_accuracy: 0.8411 - lr: 0.0010\n",
            "Epoch 17/100\n",
            "312/312 [==============================] - 29s 94ms/step - loss: 0.5058 - accuracy: 0.8314 - val_loss: 0.4965 - val_accuracy: 0.8392 - lr: 0.0010\n",
            "Epoch 18/100\n",
            "312/312 [==============================] - 30s 95ms/step - loss: 0.4938 - accuracy: 0.8356 - val_loss: 0.4522 - val_accuracy: 0.8483 - lr: 0.0010\n",
            "Epoch 19/100\n",
            "312/312 [==============================] - 29s 94ms/step - loss: 0.4873 - accuracy: 0.8371 - val_loss: 0.4811 - val_accuracy: 0.8432 - lr: 0.0010\n",
            "Epoch 20/100\n",
            "312/312 [==============================] - 29s 94ms/step - loss: 0.4730 - accuracy: 0.8436 - val_loss: 0.4360 - val_accuracy: 0.8578 - lr: 0.0010\n",
            "Epoch 21/100\n",
            "312/312 [==============================] - 29s 94ms/step - loss: 0.4342 - accuracy: 0.8565 - val_loss: 0.4061 - val_accuracy: 0.8679 - lr: 5.0000e-04\n",
            "Epoch 22/100\n",
            "312/312 [==============================] - 29s 94ms/step - loss: 0.4159 - accuracy: 0.8621 - val_loss: 0.4370 - val_accuracy: 0.8553 - lr: 5.0000e-04\n",
            "Epoch 23/100\n",
            "312/312 [==============================] - 30s 96ms/step - loss: 0.4119 - accuracy: 0.8611 - val_loss: 0.4336 - val_accuracy: 0.8571 - lr: 5.0000e-04\n",
            "Epoch 24/100\n",
            "312/312 [==============================] - 29s 93ms/step - loss: 0.3978 - accuracy: 0.8658 - val_loss: 0.4203 - val_accuracy: 0.8624 - lr: 5.0000e-04\n",
            "Epoch 25/100\n",
            "312/312 [==============================] - 29s 92ms/step - loss: 0.3909 - accuracy: 0.8670 - val_loss: 0.3943 - val_accuracy: 0.8671 - lr: 5.0000e-04\n",
            "Epoch 26/100\n",
            "312/312 [==============================] - 29s 94ms/step - loss: 0.3940 - accuracy: 0.8696 - val_loss: 0.3877 - val_accuracy: 0.8732 - lr: 5.0000e-04\n",
            "Epoch 27/100\n",
            "312/312 [==============================] - 29s 92ms/step - loss: 0.3816 - accuracy: 0.8730 - val_loss: 0.4036 - val_accuracy: 0.8648 - lr: 5.0000e-04\n",
            "Epoch 28/100\n",
            "312/312 [==============================] - 29s 94ms/step - loss: 0.3754 - accuracy: 0.8740 - val_loss: 0.3800 - val_accuracy: 0.8746 - lr: 5.0000e-04\n",
            "Epoch 29/100\n",
            "312/312 [==============================] - 29s 93ms/step - loss: 0.3746 - accuracy: 0.8751 - val_loss: 0.3917 - val_accuracy: 0.8700 - lr: 5.0000e-04\n",
            "Epoch 30/100\n",
            "312/312 [==============================] - 29s 93ms/step - loss: 0.3694 - accuracy: 0.8763 - val_loss: 0.3982 - val_accuracy: 0.8695 - lr: 5.0000e-04\n",
            "Epoch 31/100\n",
            "312/312 [==============================] - 30s 94ms/step - loss: 0.3639 - accuracy: 0.8774 - val_loss: 0.3798 - val_accuracy: 0.8736 - lr: 5.0000e-04\n",
            "Epoch 32/100\n",
            "312/312 [==============================] - 34s 108ms/step - loss: 0.3581 - accuracy: 0.8796 - val_loss: 0.3926 - val_accuracy: 0.8704 - lr: 5.0000e-04\n",
            "Epoch 33/100\n",
            "312/312 [==============================] - 29s 92ms/step - loss: 0.3568 - accuracy: 0.8805 - val_loss: 0.3939 - val_accuracy: 0.8707 - lr: 5.0000e-04\n",
            "Epoch 34/100\n",
            "312/312 [==============================] - 30s 95ms/step - loss: 0.3464 - accuracy: 0.8838 - val_loss: 0.4041 - val_accuracy: 0.8666 - lr: 5.0000e-04\n",
            "Epoch 35/100\n",
            "312/312 [==============================] - 30s 95ms/step - loss: 0.3404 - accuracy: 0.8848 - val_loss: 0.3709 - val_accuracy: 0.8778 - lr: 5.0000e-04\n",
            "Epoch 36/100\n",
            "312/312 [==============================] - 29s 92ms/step - loss: 0.3357 - accuracy: 0.8872 - val_loss: 0.4028 - val_accuracy: 0.8684 - lr: 5.0000e-04\n",
            "Epoch 37/100\n",
            "312/312 [==============================] - 29s 93ms/step - loss: 0.3315 - accuracy: 0.8889 - val_loss: 0.3852 - val_accuracy: 0.8738 - lr: 5.0000e-04\n",
            "Epoch 38/100\n",
            "312/312 [==============================] - 29s 92ms/step - loss: 0.3265 - accuracy: 0.8910 - val_loss: 0.3906 - val_accuracy: 0.8744 - lr: 5.0000e-04\n",
            "Epoch 39/100\n",
            "312/312 [==============================] - 30s 95ms/step - loss: 0.3214 - accuracy: 0.8906 - val_loss: 0.4194 - val_accuracy: 0.8696 - lr: 5.0000e-04\n",
            "Epoch 40/100\n",
            "312/312 [==============================] - 29s 92ms/step - loss: 0.3222 - accuracy: 0.8913 - val_loss: 0.3718 - val_accuracy: 0.8751 - lr: 5.0000e-04\n",
            "Epoch 41/100\n",
            "312/312 [==============================] - 29s 93ms/step - loss: 0.2977 - accuracy: 0.8999 - val_loss: 0.3916 - val_accuracy: 0.8760 - lr: 2.5000e-04\n",
            "Epoch 42/100\n",
            "312/312 [==============================] - 29s 94ms/step - loss: 0.2938 - accuracy: 0.9013 - val_loss: 0.3752 - val_accuracy: 0.8800 - lr: 2.5000e-04\n",
            "Epoch 43/100\n",
            "312/312 [==============================] - 29s 93ms/step - loss: 0.2887 - accuracy: 0.9010 - val_loss: 0.3819 - val_accuracy: 0.8804 - lr: 2.5000e-04\n",
            "Epoch 44/100\n",
            "312/312 [==============================] - 30s 95ms/step - loss: 0.2835 - accuracy: 0.9055 - val_loss: 0.3675 - val_accuracy: 0.8834 - lr: 2.5000e-04\n",
            "Epoch 45/100\n",
            "312/312 [==============================] - 29s 92ms/step - loss: 0.2800 - accuracy: 0.9064 - val_loss: 0.3767 - val_accuracy: 0.8805 - lr: 2.5000e-04\n",
            "Epoch 46/100\n",
            "312/312 [==============================] - 29s 93ms/step - loss: 0.2793 - accuracy: 0.9073 - val_loss: 0.3893 - val_accuracy: 0.8782 - lr: 2.5000e-04\n",
            "Epoch 47/100\n",
            "312/312 [==============================] - 29s 94ms/step - loss: 0.2749 - accuracy: 0.9095 - val_loss: 0.3975 - val_accuracy: 0.8758 - lr: 2.5000e-04\n",
            "Epoch 48/100\n",
            "312/312 [==============================] - 29s 92ms/step - loss: 0.2738 - accuracy: 0.9087 - val_loss: 0.3862 - val_accuracy: 0.8791 - lr: 2.5000e-04\n",
            "Epoch 49/100\n",
            "312/312 [==============================] - 30s 97ms/step - loss: 0.2704 - accuracy: 0.9092 - val_loss: 0.3957 - val_accuracy: 0.8769 - lr: 2.5000e-04\n",
            "Epoch 50/100\n",
            "312/312 [==============================] - 31s 98ms/step - loss: 0.2727 - accuracy: 0.9077 - val_loss: 0.3666 - val_accuracy: 0.8822 - lr: 2.5000e-04\n",
            "Epoch 51/100\n",
            "312/312 [==============================] - 29s 94ms/step - loss: 0.2679 - accuracy: 0.9104 - val_loss: 0.3679 - val_accuracy: 0.8838 - lr: 2.5000e-04\n",
            "Epoch 52/100\n",
            "312/312 [==============================] - 29s 93ms/step - loss: 0.2622 - accuracy: 0.9111 - val_loss: 0.3802 - val_accuracy: 0.8812 - lr: 2.5000e-04\n",
            "Epoch 53/100\n",
            "312/312 [==============================] - 29s 94ms/step - loss: 0.2602 - accuracy: 0.9135 - val_loss: 0.4087 - val_accuracy: 0.8730 - lr: 2.5000e-04\n",
            "Epoch 54/100\n",
            "312/312 [==============================] - 29s 93ms/step - loss: 0.2620 - accuracy: 0.9118 - val_loss: 0.3909 - val_accuracy: 0.8780 - lr: 2.5000e-04\n",
            "Epoch 55/100\n",
            "312/312 [==============================] - 29s 93ms/step - loss: 0.2607 - accuracy: 0.9117 - val_loss: 0.3860 - val_accuracy: 0.8795 - lr: 2.5000e-04\n",
            "Epoch 56/100\n",
            "312/312 [==============================] - 29s 94ms/step - loss: 0.2559 - accuracy: 0.9140 - val_loss: 0.3772 - val_accuracy: 0.8806 - lr: 2.5000e-04\n",
            "Epoch 57/100\n",
            "312/312 [==============================] - 29s 92ms/step - loss: 0.2530 - accuracy: 0.9147 - val_loss: 0.3910 - val_accuracy: 0.8801 - lr: 2.5000e-04\n",
            "Epoch 58/100\n",
            "312/312 [==============================] - 29s 92ms/step - loss: 0.2534 - accuracy: 0.9146 - val_loss: 0.3851 - val_accuracy: 0.8779 - lr: 2.5000e-04\n",
            "Epoch 59/100\n",
            "312/312 [==============================] - 29s 92ms/step - loss: 0.2490 - accuracy: 0.9169 - val_loss: 0.4053 - val_accuracy: 0.8761 - lr: 2.5000e-04\n",
            "Epoch 60/100\n",
            "312/312 [==============================] - 29s 93ms/step - loss: 0.2469 - accuracy: 0.9178 - val_loss: 0.4112 - val_accuracy: 0.8748 - lr: 2.5000e-04\n",
            "Epoch 61/100\n",
            "312/312 [==============================] - 29s 92ms/step - loss: 0.2316 - accuracy: 0.9227 - val_loss: 0.3797 - val_accuracy: 0.8827 - lr: 1.2500e-04\n",
            "Epoch 62/100\n",
            "312/312 [==============================] - 30s 96ms/step - loss: 0.2305 - accuracy: 0.9230 - val_loss: 0.3927 - val_accuracy: 0.8804 - lr: 1.2500e-04\n",
            "Epoch 63/100\n",
            "312/312 [==============================] - 29s 92ms/step - loss: 0.2285 - accuracy: 0.9231 - val_loss: 0.3819 - val_accuracy: 0.8826 - lr: 1.2500e-04\n",
            "Epoch 64/100\n",
            "312/312 [==============================] - 30s 95ms/step - loss: 0.2329 - accuracy: 0.9219 - val_loss: 0.3975 - val_accuracy: 0.8798 - lr: 1.2500e-04\n",
            "Epoch 65/100\n",
            "312/312 [==============================] - 29s 93ms/step - loss: 0.2252 - accuracy: 0.9238 - val_loss: 0.3846 - val_accuracy: 0.8811 - lr: 1.2500e-04\n",
            "Epoch 66/100\n",
            "312/312 [==============================] - 30s 95ms/step - loss: 0.2254 - accuracy: 0.9241 - val_loss: 0.3836 - val_accuracy: 0.8806 - lr: 1.2500e-04\n",
            "Epoch 67/100\n",
            "312/312 [==============================] - 30s 97ms/step - loss: 0.2254 - accuracy: 0.9249 - val_loss: 0.3837 - val_accuracy: 0.8839 - lr: 1.2500e-04\n",
            "Epoch 68/100\n",
            "312/312 [==============================] - 30s 95ms/step - loss: 0.2261 - accuracy: 0.9235 - val_loss: 0.3829 - val_accuracy: 0.8855 - lr: 1.2500e-04\n",
            "Epoch 69/100\n",
            "312/312 [==============================] - 29s 92ms/step - loss: 0.2182 - accuracy: 0.9275 - val_loss: 0.3940 - val_accuracy: 0.8815 - lr: 1.2500e-04\n",
            "Epoch 70/100\n",
            "312/312 [==============================] - 29s 92ms/step - loss: 0.2193 - accuracy: 0.9262 - val_loss: 0.3847 - val_accuracy: 0.8832 - lr: 1.2500e-04\n",
            "Epoch 71/100\n",
            "312/312 [==============================] - 29s 93ms/step - loss: 0.2152 - accuracy: 0.9272 - val_loss: 0.3900 - val_accuracy: 0.8804 - lr: 1.2500e-04\n",
            "Epoch 72/100\n",
            "312/312 [==============================] - 30s 95ms/step - loss: 0.2162 - accuracy: 0.9275 - val_loss: 0.3908 - val_accuracy: 0.8822 - lr: 1.2500e-04\n",
            "Epoch 73/100\n",
            "312/312 [==============================] - 29s 92ms/step - loss: 0.2144 - accuracy: 0.9285 - val_loss: 0.3859 - val_accuracy: 0.8830 - lr: 1.2500e-04\n",
            "Epoch 74/100\n",
            "312/312 [==============================] - 29s 92ms/step - loss: 0.2123 - accuracy: 0.9283 - val_loss: 0.3799 - val_accuracy: 0.8849 - lr: 1.2500e-04\n",
            "Epoch 75/100\n",
            "312/312 [==============================] - 29s 93ms/step - loss: 0.2178 - accuracy: 0.9269 - val_loss: 0.3996 - val_accuracy: 0.8803 - lr: 1.2500e-04\n",
            "Epoch 76/100\n",
            "312/312 [==============================] - 29s 91ms/step - loss: 0.2134 - accuracy: 0.9279 - val_loss: 0.3820 - val_accuracy: 0.8839 - lr: 1.2500e-04\n",
            "Epoch 77/100\n",
            "312/312 [==============================] - 30s 95ms/step - loss: 0.2094 - accuracy: 0.9294 - val_loss: 0.4014 - val_accuracy: 0.8793 - lr: 1.2500e-04\n",
            "Epoch 78/100\n",
            "312/312 [==============================] - 29s 92ms/step - loss: 0.2086 - accuracy: 0.9304 - val_loss: 0.3910 - val_accuracy: 0.8825 - lr: 1.2500e-04\n",
            "Epoch 79/100\n",
            "312/312 [==============================] - 29s 92ms/step - loss: 0.2059 - accuracy: 0.9316 - val_loss: 0.3822 - val_accuracy: 0.8832 - lr: 1.2500e-04\n",
            "Epoch 80/100\n",
            "312/312 [==============================] - 29s 93ms/step - loss: 0.2074 - accuracy: 0.9309 - val_loss: 0.3900 - val_accuracy: 0.8844 - lr: 1.2500e-04\n",
            "Epoch 81/100\n",
            "312/312 [==============================] - 29s 92ms/step - loss: 0.2013 - accuracy: 0.9327 - val_loss: 0.3948 - val_accuracy: 0.8835 - lr: 6.2500e-05\n",
            "Epoch 82/100\n",
            "312/312 [==============================] - 30s 95ms/step - loss: 0.2009 - accuracy: 0.9318 - val_loss: 0.3892 - val_accuracy: 0.8835 - lr: 6.2500e-05\n",
            "Epoch 83/100\n",
            "312/312 [==============================] - 29s 92ms/step - loss: 0.1995 - accuracy: 0.9332 - val_loss: 0.3944 - val_accuracy: 0.8835 - lr: 6.2500e-05\n",
            "Epoch 84/100\n",
            "312/312 [==============================] - 29s 92ms/step - loss: 0.1975 - accuracy: 0.9337 - val_loss: 0.4064 - val_accuracy: 0.8797 - lr: 6.2500e-05\n",
            "Epoch 85/100\n",
            "312/312 [==============================] - 29s 93ms/step - loss: 0.1942 - accuracy: 0.9339 - val_loss: 0.3885 - val_accuracy: 0.8843 - lr: 6.2500e-05\n",
            "Epoch 86/100\n",
            "312/312 [==============================] - 30s 96ms/step - loss: 0.1946 - accuracy: 0.9350 - val_loss: 0.3828 - val_accuracy: 0.8847 - lr: 6.2500e-05\n",
            "Epoch 87/100\n",
            "312/312 [==============================] - 30s 95ms/step - loss: 0.1933 - accuracy: 0.9346 - val_loss: 0.3818 - val_accuracy: 0.8852 - lr: 6.2500e-05\n",
            "Epoch 88/100\n",
            "312/312 [==============================] - 31s 98ms/step - loss: 0.1953 - accuracy: 0.9354 - val_loss: 0.3942 - val_accuracy: 0.8839 - lr: 6.2500e-05\n",
            "Epoch 89/100\n",
            "312/312 [==============================] - 29s 92ms/step - loss: 0.1935 - accuracy: 0.9354 - val_loss: 0.3926 - val_accuracy: 0.8841 - lr: 6.2500e-05\n",
            "Epoch 90/100\n",
            "312/312 [==============================] - 30s 95ms/step - loss: 0.1913 - accuracy: 0.9351 - val_loss: 0.4029 - val_accuracy: 0.8816 - lr: 6.2500e-05\n",
            "Epoch 91/100\n",
            "312/312 [==============================] - 29s 93ms/step - loss: 0.1939 - accuracy: 0.9351 - val_loss: 0.3848 - val_accuracy: 0.8847 - lr: 6.2500e-05\n",
            "Epoch 92/100\n",
            "312/312 [==============================] - 29s 94ms/step - loss: 0.1906 - accuracy: 0.9362 - val_loss: 0.4069 - val_accuracy: 0.8815 - lr: 6.2500e-05\n",
            "Epoch 93/100\n",
            "312/312 [==============================] - 30s 95ms/step - loss: 0.1952 - accuracy: 0.9351 - val_loss: 0.3871 - val_accuracy: 0.8832 - lr: 6.2500e-05\n",
            "Epoch 94/100\n",
            "312/312 [==============================] - 30s 96ms/step - loss: 0.1954 - accuracy: 0.9347 - val_loss: 0.4022 - val_accuracy: 0.8804 - lr: 6.2500e-05\n",
            "Epoch 95/100\n",
            "312/312 [==============================] - 29s 92ms/step - loss: 0.1892 - accuracy: 0.9351 - val_loss: 0.3825 - val_accuracy: 0.8849 - lr: 6.2500e-05\n",
            "Epoch 96/100\n",
            "312/312 [==============================] - 29s 94ms/step - loss: 0.1936 - accuracy: 0.9356 - val_loss: 0.3931 - val_accuracy: 0.8821 - lr: 6.2500e-05\n",
            "Epoch 97/100\n",
            "312/312 [==============================] - 29s 93ms/step - loss: 0.1891 - accuracy: 0.9356 - val_loss: 0.3921 - val_accuracy: 0.8826 - lr: 6.2500e-05\n",
            "Epoch 98/100\n",
            "312/312 [==============================] - 30s 97ms/step - loss: 0.1926 - accuracy: 0.9350 - val_loss: 0.3831 - val_accuracy: 0.8845 - lr: 6.2500e-05\n",
            "Epoch 99/100\n",
            "312/312 [==============================] - 30s 95ms/step - loss: 0.1925 - accuracy: 0.9349 - val_loss: 0.3814 - val_accuracy: 0.8869 - lr: 6.2500e-05\n",
            "Epoch 100/100\n",
            "312/312 [==============================] - 31s 100ms/step - loss: 0.1886 - accuracy: 0.9377 - val_loss: 0.3986 - val_accuracy: 0.8828 - lr: 6.2500e-05\n"
          ]
        }
      ]
    },
    {
      "cell_type": "code",
      "source": [
        "train_loss, train_accuracy = model.evaluate_generator(aug.flow(X_train,y_train_ohe, batch_size=BS), 156)\n",
        "print('Training loss: {}\\nTraining accuracy: {}'.format(train_loss, train_accuracy))"
      ],
      "metadata": {
        "colab": {
          "base_uri": "https://localhost:8080/"
        },
        "id": "tK3dgnf8DbFG",
        "outputId": "172c5b8a-c07d-4c17-fb32-ebfdf6c47adc"
      },
      "execution_count": 13,
      "outputs": [
        {
          "output_type": "stream",
          "name": "stderr",
          "text": [
            "<ipython-input-13-a5a972341de3>:1: UserWarning: `Model.evaluate_generator` is deprecated and will be removed in a future version. Please use `Model.evaluate`, which supports generators.\n",
            "  train_loss, train_accuracy = model.evaluate_generator(aug.flow(X_train,y_train_ohe, batch_size=BS), 156)\n"
          ]
        },
        {
          "output_type": "stream",
          "name": "stdout",
          "text": [
            "Training loss: 0.17255964875221252\n",
            "Training accuracy: 0.9396033883094788\n"
          ]
        }
      ]
    },
    {
      "cell_type": "code",
      "source": [
        "val_loss, val_accuracy = model.evaluate(X_val, y_val)\n",
        "print('Validation loss: {}\\nValidation accuracy: {}'.format(val_loss, val_accuracy))"
      ],
      "metadata": {
        "id": "yeR4lo9_RyTr",
        "outputId": "12213443-5d58-41dd-9aca-d94d7aad8277",
        "colab": {
          "base_uri": "https://localhost:8080/"
        }
      },
      "execution_count": 14,
      "outputs": [
        {
          "output_type": "stream",
          "name": "stdout",
          "text": [
            "313/313 [==============================] - 3s 8ms/step - loss: 0.3814 - accuracy: 0.8869\n",
            "Validation loss: 0.3813720941543579\n",
            "Validation accuracy: 0.886900007724762\n"
          ]
        }
      ]
    },
    {
      "cell_type": "code",
      "source": [
        "test_loss, test_accuracy = model.evaluate(X_test,y_test_ohe,)\n",
        "print('Testing loss: {}\\nTesting accuracy: {}'.format(test_loss, test_accuracy))"
      ],
      "metadata": {
        "id": "tqc9BMIWRyQr",
        "outputId": "e07992cd-7bdd-45db-838c-bd04a7ddc21e",
        "colab": {
          "base_uri": "https://localhost:8080/"
        }
      },
      "execution_count": 15,
      "outputs": [
        {
          "output_type": "stream",
          "name": "stdout",
          "text": [
            "313/313 [==============================] - 3s 8ms/step - loss: 0.4074 - accuracy: 0.8834\n",
            "Testing loss: 0.40743446350097656\n",
            "Testing accuracy: 0.883400022983551\n"
          ]
        }
      ]
    },
    {
      "cell_type": "code",
      "source": [],
      "metadata": {
        "id": "iW_0VUPPR21N"
      },
      "execution_count": null,
      "outputs": []
    }
  ]
}