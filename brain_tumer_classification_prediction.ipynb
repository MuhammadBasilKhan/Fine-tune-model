{
  "nbformat": 4,
  "nbformat_minor": 0,
  "metadata": {
    "colab": {
      "provenance": [],
      "gpuType": "T4",
      "authorship_tag": "ABX9TyObf9pzMVamzR5IjM5yPQJX",
      "include_colab_link": true
    },
    "kernelspec": {
      "name": "python3",
      "display_name": "Python 3"
    },
    "language_info": {
      "name": "python"
    },
    "accelerator": "GPU"
  },
  "cells": [
    {
      "cell_type": "markdown",
      "metadata": {
        "id": "view-in-github",
        "colab_type": "text"
      },
      "source": [
        "<a href=\"https://colab.research.google.com/github/MuhammadBasilKhan/Fine-tune-model/blob/main/brain_tumer_classification_prediction.ipynb\" target=\"_parent\"><img src=\"https://colab.research.google.com/assets/colab-badge.svg\" alt=\"Open In Colab\"/></a>"
      ]
    },
    {
      "cell_type": "code",
      "source": [
        "from google.colab import drive\n",
        "drive.mount('/content/drive')\n"
      ],
      "metadata": {
        "colab": {
          "base_uri": "https://localhost:8080/"
        },
        "id": "b9mJk9uDnIJ3",
        "outputId": "f0bb4d45-7f19-406e-fefa-162ba957e220"
      },
      "execution_count": 1,
      "outputs": [
        {
          "output_type": "stream",
          "name": "stdout",
          "text": [
            "Mounted at /content/drive\n"
          ]
        }
      ]
    },
    {
      "cell_type": "code",
      "execution_count": 2,
      "metadata": {
        "id": "k0tQ4hMIlBQa"
      },
      "outputs": [],
      "source": [
        "import numpy as np\n",
        "import cv2\n",
        "import os\n",
        "import random\n",
        "import matplotlib.pyplot as plt\n",
        "import pickle\n"
      ]
    },
    {
      "cell_type": "code",
      "source": [
        "dir='/content/drive/MyDrive/drive/chesse pics and brain tumer data'\n",
        "categories=['Astrocitoma T1','Astrocitoma T1C+','Astrocitoma T2','Carcinoma T1','Carcinoma T1C+','Carcinoma T2','Ependimoma T1','Ependimoma T1C+','Ependimoma T2','Ganglioglioma T1','Ganglioglioma T1C+','Ganglioglioma T2','Germinoma T1','Germinoma T1C+','Germinoma T2','Glioblastoma T1','Glioblastoma T1C+','Glioblastoma T2','Granuloma T1','Granuloma T1C+','Granuloma T2','Meduloblastoma T1','Meduloblastoma T1C+','Meduloblastoma T2','Meningioma T1','Meningioma T1C+','Meningioma T2','Neurocitoma T1','Neurocitoma T1C+','Neurocitoma T2','Oligodendroglioma T1','Oligodendroglioma T1C+','Oligodendroglioma T2','Papiloma T1','Papiloma T1C+','Papiloma T2','Schwannoma T1','Schwannoma T1C+','Schwannoma T2','Tuberculoma T1','Tuberculoma T1C+','Tuberculoma T2','_NORMAL T1','_NORMAL T2']\n"
      ],
      "metadata": {
        "id": "FQe2_Fm4mnef"
      },
      "execution_count": 3,
      "outputs": []
    },
    {
      "cell_type": "code",
      "source": [
        "len(categories)"
      ],
      "metadata": {
        "id": "Tl1_2nAtcSTR",
        "outputId": "335decfb-848b-4123-fd39-22fc6026fd53",
        "colab": {
          "base_uri": "https://localhost:8080/"
        }
      },
      "execution_count": 4,
      "outputs": [
        {
          "output_type": "execute_result",
          "data": {
            "text/plain": [
              "44"
            ]
          },
          "metadata": {},
          "execution_count": 4
        }
      ]
    },
    {
      "cell_type": "code",
      "source": [
        "imgsize=32\n",
        "data=[]\n",
        "for category in categories:\n",
        "  folder=os.path.join(dir,category)\n",
        "  label=categories.index(category)\n",
        "  for img in os.listdir(folder):\n",
        "    img_path=os.path.join(folder,img)\n",
        "    img_arr=cv2.imread(img_path)\n",
        "    img_arr=cv2.resize(img_arr,(imgsize,imgsize))\n",
        "    data.append([img_arr,label])\n"
      ],
      "metadata": {
        "id": "VZDrWo8Msgrd"
      },
      "execution_count": 36,
      "outputs": []
    },
    {
      "cell_type": "code",
      "source": [
        "import pandas as pd\n",
        "df=pd.DataFrame(data)\n",
        "df.head(10)"
      ],
      "metadata": {
        "colab": {
          "base_uri": "https://localhost:8080/",
          "height": 363
        },
        "id": "ibKaIeGYKxyA",
        "outputId": "13a8a289-d40c-45a7-b2bf-62f5e2bc5a26"
      },
      "execution_count": 37,
      "outputs": [
        {
          "output_type": "execute_result",
          "data": {
            "text/plain": [
              "                                                   0  1\n",
              "0  [[[0, 0, 0], [0, 0, 0], [0, 0, 0], [0, 0, 0], ...  0\n",
              "1  [[[0, 0, 0], [0, 0, 0], [0, 0, 0], [0, 0, 0], ...  0\n",
              "2  [[[2, 2, 2], [2, 2, 2], [2, 2, 2], [2, 2, 2], ...  0\n",
              "3  [[[9, 9, 9], [9, 9, 9], [10, 10, 10], [10, 10,...  0\n",
              "4  [[[2, 2, 2], [3, 3, 3], [3, 3, 3], [2, 2, 2], ...  0\n",
              "5  [[[0, 0, 0], [0, 0, 0], [0, 0, 0], [1, 1, 1], ...  0\n",
              "6  [[[2, 2, 2], [2, 2, 2], [2, 2, 2], [2, 2, 2], ...  0\n",
              "7  [[[0, 0, 0], [0, 0, 0], [0, 0, 0], [0, 0, 0], ...  0\n",
              "8  [[[2, 2, 2], [2, 2, 2], [2, 2, 2], [2, 2, 2], ...  0\n",
              "9  [[[0, 0, 0], [0, 0, 0], [1, 1, 1], [1, 1, 1], ...  0"
            ],
            "text/html": [
              "\n",
              "  <div id=\"df-3cdcbb2a-ce0c-4989-bfd8-36eb0b2ae590\" class=\"colab-df-container\">\n",
              "    <div>\n",
              "<style scoped>\n",
              "    .dataframe tbody tr th:only-of-type {\n",
              "        vertical-align: middle;\n",
              "    }\n",
              "\n",
              "    .dataframe tbody tr th {\n",
              "        vertical-align: top;\n",
              "    }\n",
              "\n",
              "    .dataframe thead th {\n",
              "        text-align: right;\n",
              "    }\n",
              "</style>\n",
              "<table border=\"1\" class=\"dataframe\">\n",
              "  <thead>\n",
              "    <tr style=\"text-align: right;\">\n",
              "      <th></th>\n",
              "      <th>0</th>\n",
              "      <th>1</th>\n",
              "    </tr>\n",
              "  </thead>\n",
              "  <tbody>\n",
              "    <tr>\n",
              "      <th>0</th>\n",
              "      <td>[[[0, 0, 0], [0, 0, 0], [0, 0, 0], [0, 0, 0], ...</td>\n",
              "      <td>0</td>\n",
              "    </tr>\n",
              "    <tr>\n",
              "      <th>1</th>\n",
              "      <td>[[[0, 0, 0], [0, 0, 0], [0, 0, 0], [0, 0, 0], ...</td>\n",
              "      <td>0</td>\n",
              "    </tr>\n",
              "    <tr>\n",
              "      <th>2</th>\n",
              "      <td>[[[2, 2, 2], [2, 2, 2], [2, 2, 2], [2, 2, 2], ...</td>\n",
              "      <td>0</td>\n",
              "    </tr>\n",
              "    <tr>\n",
              "      <th>3</th>\n",
              "      <td>[[[9, 9, 9], [9, 9, 9], [10, 10, 10], [10, 10,...</td>\n",
              "      <td>0</td>\n",
              "    </tr>\n",
              "    <tr>\n",
              "      <th>4</th>\n",
              "      <td>[[[2, 2, 2], [3, 3, 3], [3, 3, 3], [2, 2, 2], ...</td>\n",
              "      <td>0</td>\n",
              "    </tr>\n",
              "    <tr>\n",
              "      <th>5</th>\n",
              "      <td>[[[0, 0, 0], [0, 0, 0], [0, 0, 0], [1, 1, 1], ...</td>\n",
              "      <td>0</td>\n",
              "    </tr>\n",
              "    <tr>\n",
              "      <th>6</th>\n",
              "      <td>[[[2, 2, 2], [2, 2, 2], [2, 2, 2], [2, 2, 2], ...</td>\n",
              "      <td>0</td>\n",
              "    </tr>\n",
              "    <tr>\n",
              "      <th>7</th>\n",
              "      <td>[[[0, 0, 0], [0, 0, 0], [0, 0, 0], [0, 0, 0], ...</td>\n",
              "      <td>0</td>\n",
              "    </tr>\n",
              "    <tr>\n",
              "      <th>8</th>\n",
              "      <td>[[[2, 2, 2], [2, 2, 2], [2, 2, 2], [2, 2, 2], ...</td>\n",
              "      <td>0</td>\n",
              "    </tr>\n",
              "    <tr>\n",
              "      <th>9</th>\n",
              "      <td>[[[0, 0, 0], [0, 0, 0], [1, 1, 1], [1, 1, 1], ...</td>\n",
              "      <td>0</td>\n",
              "    </tr>\n",
              "  </tbody>\n",
              "</table>\n",
              "</div>\n",
              "    <div class=\"colab-df-buttons\">\n",
              "\n",
              "  <div class=\"colab-df-container\">\n",
              "    <button class=\"colab-df-convert\" onclick=\"convertToInteractive('df-3cdcbb2a-ce0c-4989-bfd8-36eb0b2ae590')\"\n",
              "            title=\"Convert this dataframe to an interactive table.\"\n",
              "            style=\"display:none;\">\n",
              "\n",
              "  <svg xmlns=\"http://www.w3.org/2000/svg\" height=\"24px\" viewBox=\"0 -960 960 960\">\n",
              "    <path d=\"M120-120v-720h720v720H120Zm60-500h600v-160H180v160Zm220 220h160v-160H400v160Zm0 220h160v-160H400v160ZM180-400h160v-160H180v160Zm440 0h160v-160H620v160ZM180-180h160v-160H180v160Zm440 0h160v-160H620v160Z\"/>\n",
              "  </svg>\n",
              "    </button>\n",
              "\n",
              "  <style>\n",
              "    .colab-df-container {\n",
              "      display:flex;\n",
              "      gap: 12px;\n",
              "    }\n",
              "\n",
              "    .colab-df-convert {\n",
              "      background-color: #E8F0FE;\n",
              "      border: none;\n",
              "      border-radius: 50%;\n",
              "      cursor: pointer;\n",
              "      display: none;\n",
              "      fill: #1967D2;\n",
              "      height: 32px;\n",
              "      padding: 0 0 0 0;\n",
              "      width: 32px;\n",
              "    }\n",
              "\n",
              "    .colab-df-convert:hover {\n",
              "      background-color: #E2EBFA;\n",
              "      box-shadow: 0px 1px 2px rgba(60, 64, 67, 0.3), 0px 1px 3px 1px rgba(60, 64, 67, 0.15);\n",
              "      fill: #174EA6;\n",
              "    }\n",
              "\n",
              "    .colab-df-buttons div {\n",
              "      margin-bottom: 4px;\n",
              "    }\n",
              "\n",
              "    [theme=dark] .colab-df-convert {\n",
              "      background-color: #3B4455;\n",
              "      fill: #D2E3FC;\n",
              "    }\n",
              "\n",
              "    [theme=dark] .colab-df-convert:hover {\n",
              "      background-color: #434B5C;\n",
              "      box-shadow: 0px 1px 3px 1px rgba(0, 0, 0, 0.15);\n",
              "      filter: drop-shadow(0px 1px 2px rgba(0, 0, 0, 0.3));\n",
              "      fill: #FFFFFF;\n",
              "    }\n",
              "  </style>\n",
              "\n",
              "    <script>\n",
              "      const buttonEl =\n",
              "        document.querySelector('#df-3cdcbb2a-ce0c-4989-bfd8-36eb0b2ae590 button.colab-df-convert');\n",
              "      buttonEl.style.display =\n",
              "        google.colab.kernel.accessAllowed ? 'block' : 'none';\n",
              "\n",
              "      async function convertToInteractive(key) {\n",
              "        const element = document.querySelector('#df-3cdcbb2a-ce0c-4989-bfd8-36eb0b2ae590');\n",
              "        const dataTable =\n",
              "          await google.colab.kernel.invokeFunction('convertToInteractive',\n",
              "                                                    [key], {});\n",
              "        if (!dataTable) return;\n",
              "\n",
              "        const docLinkHtml = 'Like what you see? Visit the ' +\n",
              "          '<a target=\"_blank\" href=https://colab.research.google.com/notebooks/data_table.ipynb>data table notebook</a>'\n",
              "          + ' to learn more about interactive tables.';\n",
              "        element.innerHTML = '';\n",
              "        dataTable['output_type'] = 'display_data';\n",
              "        await google.colab.output.renderOutput(dataTable, element);\n",
              "        const docLink = document.createElement('div');\n",
              "        docLink.innerHTML = docLinkHtml;\n",
              "        element.appendChild(docLink);\n",
              "      }\n",
              "    </script>\n",
              "  </div>\n",
              "\n",
              "\n",
              "<div id=\"df-29af8666-a50f-46a4-aa56-9c1c841c688e\">\n",
              "  <button class=\"colab-df-quickchart\" onclick=\"quickchart('df-29af8666-a50f-46a4-aa56-9c1c841c688e')\"\n",
              "            title=\"Suggest charts\"\n",
              "            style=\"display:none;\">\n",
              "\n",
              "<svg xmlns=\"http://www.w3.org/2000/svg\" height=\"24px\"viewBox=\"0 0 24 24\"\n",
              "     width=\"24px\">\n",
              "    <g>\n",
              "        <path d=\"M19 3H5c-1.1 0-2 .9-2 2v14c0 1.1.9 2 2 2h14c1.1 0 2-.9 2-2V5c0-1.1-.9-2-2-2zM9 17H7v-7h2v7zm4 0h-2V7h2v10zm4 0h-2v-4h2v4z\"/>\n",
              "    </g>\n",
              "</svg>\n",
              "  </button>\n",
              "\n",
              "<style>\n",
              "  .colab-df-quickchart {\n",
              "      --bg-color: #E8F0FE;\n",
              "      --fill-color: #1967D2;\n",
              "      --hover-bg-color: #E2EBFA;\n",
              "      --hover-fill-color: #174EA6;\n",
              "      --disabled-fill-color: #AAA;\n",
              "      --disabled-bg-color: #DDD;\n",
              "  }\n",
              "\n",
              "  [theme=dark] .colab-df-quickchart {\n",
              "      --bg-color: #3B4455;\n",
              "      --fill-color: #D2E3FC;\n",
              "      --hover-bg-color: #434B5C;\n",
              "      --hover-fill-color: #FFFFFF;\n",
              "      --disabled-bg-color: #3B4455;\n",
              "      --disabled-fill-color: #666;\n",
              "  }\n",
              "\n",
              "  .colab-df-quickchart {\n",
              "    background-color: var(--bg-color);\n",
              "    border: none;\n",
              "    border-radius: 50%;\n",
              "    cursor: pointer;\n",
              "    display: none;\n",
              "    fill: var(--fill-color);\n",
              "    height: 32px;\n",
              "    padding: 0;\n",
              "    width: 32px;\n",
              "  }\n",
              "\n",
              "  .colab-df-quickchart:hover {\n",
              "    background-color: var(--hover-bg-color);\n",
              "    box-shadow: 0 1px 2px rgba(60, 64, 67, 0.3), 0 1px 3px 1px rgba(60, 64, 67, 0.15);\n",
              "    fill: var(--button-hover-fill-color);\n",
              "  }\n",
              "\n",
              "  .colab-df-quickchart-complete:disabled,\n",
              "  .colab-df-quickchart-complete:disabled:hover {\n",
              "    background-color: var(--disabled-bg-color);\n",
              "    fill: var(--disabled-fill-color);\n",
              "    box-shadow: none;\n",
              "  }\n",
              "\n",
              "  .colab-df-spinner {\n",
              "    border: 2px solid var(--fill-color);\n",
              "    border-color: transparent;\n",
              "    border-bottom-color: var(--fill-color);\n",
              "    animation:\n",
              "      spin 1s steps(1) infinite;\n",
              "  }\n",
              "\n",
              "  @keyframes spin {\n",
              "    0% {\n",
              "      border-color: transparent;\n",
              "      border-bottom-color: var(--fill-color);\n",
              "      border-left-color: var(--fill-color);\n",
              "    }\n",
              "    20% {\n",
              "      border-color: transparent;\n",
              "      border-left-color: var(--fill-color);\n",
              "      border-top-color: var(--fill-color);\n",
              "    }\n",
              "    30% {\n",
              "      border-color: transparent;\n",
              "      border-left-color: var(--fill-color);\n",
              "      border-top-color: var(--fill-color);\n",
              "      border-right-color: var(--fill-color);\n",
              "    }\n",
              "    40% {\n",
              "      border-color: transparent;\n",
              "      border-right-color: var(--fill-color);\n",
              "      border-top-color: var(--fill-color);\n",
              "    }\n",
              "    60% {\n",
              "      border-color: transparent;\n",
              "      border-right-color: var(--fill-color);\n",
              "    }\n",
              "    80% {\n",
              "      border-color: transparent;\n",
              "      border-right-color: var(--fill-color);\n",
              "      border-bottom-color: var(--fill-color);\n",
              "    }\n",
              "    90% {\n",
              "      border-color: transparent;\n",
              "      border-bottom-color: var(--fill-color);\n",
              "    }\n",
              "  }\n",
              "</style>\n",
              "\n",
              "  <script>\n",
              "    async function quickchart(key) {\n",
              "      const quickchartButtonEl =\n",
              "        document.querySelector('#' + key + ' button');\n",
              "      quickchartButtonEl.disabled = true;  // To prevent multiple clicks.\n",
              "      quickchartButtonEl.classList.add('colab-df-spinner');\n",
              "      try {\n",
              "        const charts = await google.colab.kernel.invokeFunction(\n",
              "            'suggestCharts', [key], {});\n",
              "      } catch (error) {\n",
              "        console.error('Error during call to suggestCharts:', error);\n",
              "      }\n",
              "      quickchartButtonEl.classList.remove('colab-df-spinner');\n",
              "      quickchartButtonEl.classList.add('colab-df-quickchart-complete');\n",
              "    }\n",
              "    (() => {\n",
              "      let quickchartButtonEl =\n",
              "        document.querySelector('#df-29af8666-a50f-46a4-aa56-9c1c841c688e button');\n",
              "      quickchartButtonEl.style.display =\n",
              "        google.colab.kernel.accessAllowed ? 'block' : 'none';\n",
              "    })();\n",
              "  </script>\n",
              "</div>\n",
              "\n",
              "    </div>\n",
              "  </div>\n"
            ]
          },
          "metadata": {},
          "execution_count": 37
        }
      ]
    },
    {
      "cell_type": "code",
      "source": [
        "len(data)\n"
      ],
      "metadata": {
        "colab": {
          "base_uri": "https://localhost:8080/"
        },
        "id": "qFmyGPpoGwIs",
        "outputId": "e9f3cfaa-825b-4c82-a949-f13b1f18a76e"
      },
      "execution_count": 83,
      "outputs": [
        {
          "output_type": "execute_result",
          "data": {
            "text/plain": [
              "4479"
            ]
          },
          "metadata": {},
          "execution_count": 83
        }
      ]
    },
    {
      "cell_type": "code",
      "source": [
        "random.shuffle(data)"
      ],
      "metadata": {
        "id": "uCD9k8T4HFQ_"
      },
      "execution_count": 84,
      "outputs": []
    },
    {
      "cell_type": "code",
      "source": [
        "data[0]"
      ],
      "metadata": {
        "colab": {
          "base_uri": "https://localhost:8080/"
        },
        "id": "rBO53kE2HINO",
        "outputId": "9d6729a9-8dcf-4662-8733-331579a45897"
      },
      "execution_count": 85,
      "outputs": [
        {
          "output_type": "execute_result",
          "data": {
            "text/plain": [
              "[array([[[2, 2, 2],\n",
              "         [4, 4, 4],\n",
              "         [1, 1, 1],\n",
              "         ...,\n",
              "         [3, 3, 3],\n",
              "         [2, 2, 2],\n",
              "         [0, 0, 0]],\n",
              " \n",
              "        [[4, 4, 4],\n",
              "         [0, 0, 0],\n",
              "         [2, 2, 2],\n",
              "         ...,\n",
              "         [4, 4, 4],\n",
              "         [1, 1, 1],\n",
              "         [1, 1, 1]],\n",
              " \n",
              "        [[5, 5, 5],\n",
              "         [0, 0, 0],\n",
              "         [1, 1, 1],\n",
              "         ...,\n",
              "         [2, 2, 2],\n",
              "         [2, 2, 2],\n",
              "         [2, 2, 2]],\n",
              " \n",
              "        ...,\n",
              " \n",
              "        [[0, 0, 0],\n",
              "         [3, 3, 3],\n",
              "         [2, 2, 2],\n",
              "         ...,\n",
              "         [0, 0, 0],\n",
              "         [2, 2, 2],\n",
              "         [3, 3, 3]],\n",
              " \n",
              "        [[3, 3, 3],\n",
              "         [0, 0, 0],\n",
              "         [2, 2, 2],\n",
              "         ...,\n",
              "         [2, 2, 2],\n",
              "         [3, 3, 3],\n",
              "         [3, 3, 3]],\n",
              " \n",
              "        [[2, 2, 2],\n",
              "         [3, 3, 3],\n",
              "         [4, 4, 4],\n",
              "         ...,\n",
              "         [2, 2, 2],\n",
              "         [3, 3, 3],\n",
              "         [1, 1, 1]]], dtype=uint8),\n",
              " 4]"
            ]
          },
          "metadata": {},
          "execution_count": 85
        }
      ]
    },
    {
      "cell_type": "code",
      "source": [
        "X=[]\n",
        "Y=[]"
      ],
      "metadata": {
        "id": "2KX-cOsQHJRW"
      },
      "execution_count": 86,
      "outputs": []
    },
    {
      "cell_type": "code",
      "source": [
        "for features,labels in data:\n",
        "  X.append(features)\n",
        "  Y.append(labels)"
      ],
      "metadata": {
        "id": "8qi6W7wLHMim"
      },
      "execution_count": 87,
      "outputs": []
    },
    {
      "cell_type": "code",
      "source": [
        "x=np.array(X)\n",
        "y=np.array(Y)"
      ],
      "metadata": {
        "id": "gBD0ZrvFHT9u"
      },
      "execution_count": 88,
      "outputs": []
    },
    {
      "cell_type": "code",
      "source": [
        "print(y)"
      ],
      "metadata": {
        "id": "F2Cn-zouXhHp",
        "outputId": "ba055025-a26b-442c-ffcf-3e4295773a94",
        "colab": {
          "base_uri": "https://localhost:8080/"
        }
      },
      "execution_count": 89,
      "outputs": [
        {
          "output_type": "stream",
          "name": "stdout",
          "text": [
            "[ 4  4 27 ... 24  8 24]\n"
          ]
        }
      ]
    },
    {
      "cell_type": "code",
      "source": [
        "pickle.dump(x,open('x.pkl','wb'))\n",
        "pickle.dump(y,open('y.pkl','wb'))"
      ],
      "metadata": {
        "id": "bhUyHTRIHZWt"
      },
      "execution_count": 90,
      "outputs": []
    },
    {
      "cell_type": "code",
      "source": [
        "import pickle"
      ],
      "metadata": {
        "id": "10912dB2Hqx1"
      },
      "execution_count": 91,
      "outputs": []
    },
    {
      "cell_type": "code",
      "source": [
        "x1=pickle.load(open('x.pkl','rb'))\n",
        "y1=pickle.load(open('y.pkl','rb'))"
      ],
      "metadata": {
        "id": "-02ZIRsTHtTl"
      },
      "execution_count": 92,
      "outputs": []
    },
    {
      "cell_type": "code",
      "source": [
        "from sklearn.model_selection import train_test_split\n",
        "\n",
        "# Assume 'X' is your feature matrix and 'y' is your target variable\n",
        "# Replace this with your actual data\n",
        "X, y = x1, y1\n",
        "\n",
        "# Split the data into training and testing sets\n",
        "# test_size: proportion of the dataset to include in the test split (e.g., 0.2 for 20% test data)\n",
        "# random_state: seed for reproducibility\n",
        "X_train, X_test, y_train, y_test = train_test_split(X, y, test_size=0.2, random_state=42)\n",
        "\n",
        "# Now, X_train and y_train are your training data and labels,\n",
        "# and X_test and y_test are your testing data and labels\n"
      ],
      "metadata": {
        "id": "46ICMhsgaqhM"
      },
      "execution_count": 93,
      "outputs": []
    },
    {
      "cell_type": "code",
      "source": [
        "import numpy as np\n",
        "from tensorflow.keras.applications.vgg16 import VGG16\n",
        "import tensorflow.keras as k\n",
        "from tensorflow.keras.models import Sequential\n",
        "from tensorflow.keras.layers import Dense, Flatten, Dropout\n",
        "from tensorflow.keras.datasets import mnist\n",
        "from tensorflow.keras.utils import to_categorical\n",
        "from tensorflow.keras import optimizers\n",
        "from tensorflow.keras.callbacks import ModelCheckpoint, EarlyStopping, LearningRateScheduler\n",
        "from tensorflow.keras.preprocessing.image import ImageDataGenerator\n",
        "from sklearn.metrics import accuracy_score"
      ],
      "metadata": {
        "id": "XZK0-iT5cBT6"
      },
      "execution_count": 94,
      "outputs": []
    },
    {
      "cell_type": "code",
      "source": [
        "num_classes=44\n",
        "vgg16_model = VGG16(weights='imagenet',\n",
        "                    include_top=False,\n",
        "                    input_shape=(32,32,3)# input: 32x32 images with 3 channels -> (32, 32, 3) tensors.\n",
        "                   )"
      ],
      "metadata": {
        "id": "DBX9gcBKdxff"
      },
      "execution_count": 95,
      "outputs": []
    },
    {
      "cell_type": "code",
      "source": [
        "model = Sequential()\n",
        "for layer in vgg16_model.layers:\n",
        "    model.add(layer)"
      ],
      "metadata": {
        "id": "aW_0ztvXdzog"
      },
      "execution_count": 96,
      "outputs": []
    },
    {
      "cell_type": "code",
      "source": [
        "from tensorflow.keras.layers import Dense, Flatten, Dropout\n",
        "model.add(Flatten())\n",
        "model.add(Dense(512, activation='relu', name='hidden1'))\n",
        "model.add(Dropout(0.4))\n",
        "model.add(Dense(256, activation='relu', name='hidden2'))\n",
        "model.add(Dropout(0.4))\n",
        "model.add(Dense(num_classes, activation='softmax', name='predictions'))\n",
        "\n",
        "model.summary()"
      ],
      "metadata": {
        "id": "UQKryqvhdzlf",
        "outputId": "56982a5c-279a-4e0b-a0ae-a33c4092f80b",
        "colab": {
          "base_uri": "https://localhost:8080/"
        }
      },
      "execution_count": 97,
      "outputs": [
        {
          "output_type": "stream",
          "name": "stdout",
          "text": [
            "Model: \"sequential_4\"\n",
            "_________________________________________________________________\n",
            " Layer (type)                Output Shape              Param #   \n",
            "=================================================================\n",
            " block1_conv1 (Conv2D)       (None, 32, 32, 64)        1792      \n",
            "                                                                 \n",
            " block1_conv2 (Conv2D)       (None, 32, 32, 64)        36928     \n",
            "                                                                 \n",
            " block1_pool (MaxPooling2D)  (None, 16, 16, 64)        0         \n",
            "                                                                 \n",
            " block2_conv1 (Conv2D)       (None, 16, 16, 128)       73856     \n",
            "                                                                 \n",
            " block2_conv2 (Conv2D)       (None, 16, 16, 128)       147584    \n",
            "                                                                 \n",
            " block2_pool (MaxPooling2D)  (None, 8, 8, 128)         0         \n",
            "                                                                 \n",
            " block3_conv1 (Conv2D)       (None, 8, 8, 256)         295168    \n",
            "                                                                 \n",
            " block3_conv2 (Conv2D)       (None, 8, 8, 256)         590080    \n",
            "                                                                 \n",
            " block3_conv3 (Conv2D)       (None, 8, 8, 256)         590080    \n",
            "                                                                 \n",
            " block3_pool (MaxPooling2D)  (None, 4, 4, 256)         0         \n",
            "                                                                 \n",
            " block4_conv1 (Conv2D)       (None, 4, 4, 512)         1180160   \n",
            "                                                                 \n",
            " block4_conv2 (Conv2D)       (None, 4, 4, 512)         2359808   \n",
            "                                                                 \n",
            " block4_conv3 (Conv2D)       (None, 4, 4, 512)         2359808   \n",
            "                                                                 \n",
            " block4_pool (MaxPooling2D)  (None, 2, 2, 512)         0         \n",
            "                                                                 \n",
            " block5_conv1 (Conv2D)       (None, 2, 2, 512)         2359808   \n",
            "                                                                 \n",
            " block5_conv2 (Conv2D)       (None, 2, 2, 512)         2359808   \n",
            "                                                                 \n",
            " block5_conv3 (Conv2D)       (None, 2, 2, 512)         2359808   \n",
            "                                                                 \n",
            " block5_pool (MaxPooling2D)  (None, 1, 1, 512)         0         \n",
            "                                                                 \n",
            " flatten_4 (Flatten)         (None, 512)               0         \n",
            "                                                                 \n",
            " hidden1 (Dense)             (None, 512)               262656    \n",
            "                                                                 \n",
            " dropout_8 (Dropout)         (None, 512)               0         \n",
            "                                                                 \n",
            " hidden2 (Dense)             (None, 256)               131328    \n",
            "                                                                 \n",
            " dropout_9 (Dropout)         (None, 256)               0         \n",
            "                                                                 \n",
            " predictions (Dense)         (None, 44)                11308     \n",
            "                                                                 \n",
            "=================================================================\n",
            "Total params: 15119980 (57.68 MB)\n",
            "Trainable params: 15119980 (57.68 MB)\n",
            "Non-trainable params: 0 (0.00 Byte)\n",
            "_________________________________________________________________\n"
          ]
        }
      ]
    },
    {
      "cell_type": "code",
      "source": [
        "y_train = to_categorical(y_train, num_classes )\n",
        "y_test = to_categorical(y_test, num_classes )"
      ],
      "metadata": {
        "id": "gFfB7e11H7W7"
      },
      "execution_count": 98,
      "outputs": []
    },
    {
      "cell_type": "code",
      "source": [
        "X_train = X_train.astype('float32')\n",
        "X_test = X_test.astype('float32')\n",
        "X_train  /= 255\n",
        "X_test /= 255\n",
        "\n",
        "print(\"******************\")\n",
        "print(X_train.shape)\n",
        "print(y_train.shape)\n",
        "print(X_test.shape)\n",
        "print(y_test.shape)"
      ],
      "metadata": {
        "id": "2mndQoRKcnex",
        "outputId": "6a39dc6f-ff46-46b7-daac-2b1283dcc190",
        "colab": {
          "base_uri": "https://localhost:8080/"
        }
      },
      "execution_count": 99,
      "outputs": [
        {
          "output_type": "stream",
          "name": "stdout",
          "text": [
            "******************\n",
            "(3583, 32, 32, 3)\n",
            "(3583, 44)\n",
            "(896, 32, 32, 3)\n",
            "(896, 44)\n"
          ]
        }
      ]
    },
    {
      "cell_type": "code",
      "source": [
        "X_val = X_train[2200:]\n",
        "y_val = y_train[2200:]\n",
        "print(X_val.shape)\n",
        "print(y_val.shape)"
      ],
      "metadata": {
        "colab": {
          "base_uri": "https://localhost:8080/"
        },
        "id": "P5LdmdlmH9EL",
        "outputId": "5833b006-ee37-4327-d635-e1771749ed25"
      },
      "execution_count": 100,
      "outputs": [
        {
          "output_type": "stream",
          "name": "stdout",
          "text": [
            "(1383, 32, 32, 3)\n",
            "(1383, 44)\n"
          ]
        }
      ]
    },
    {
      "cell_type": "code",
      "source": [
        "X_train = X_train[:2200]\n",
        "y_train = y_train[:2200]\n",
        "print(X_train.shape)\n",
        "print(y_train.shape)"
      ],
      "metadata": {
        "id": "wVhAkDqWH-vb",
        "outputId": "d30eb253-7414-4a21-dae7-0d1ff43d20ce",
        "colab": {
          "base_uri": "https://localhost:8080/"
        }
      },
      "execution_count": 101,
      "outputs": [
        {
          "output_type": "stream",
          "name": "stdout",
          "text": [
            "(2200, 32, 32, 3)\n",
            "(2200, 44)\n"
          ]
        }
      ]
    },
    {
      "cell_type": "code",
      "source": [
        "sgd = SGD(lr=0.001, momentum=0.9)\n",
        "model.compile(loss='categorical_crossentropy', optimizer=sgd, metrics=['accuracy'])\n",
        "\n",
        "def lr_scheduler(epoch):\n",
        "    return 0.001 * (0.5 ** (epoch // 20))\n",
        "\n",
        "reduce_lr = LearningRateScheduler(lr_scheduler)\n",
        "\n",
        "mc = ModelCheckpoint('./weights.h5', monitor='val_accuracy', save_best_only=True, mode='max')\n",
        "\n",
        "# initialize the number of epochs and batch size\n",
        "EPOCHS = 100\n",
        "BS = 128\n",
        "\n",
        "# construct the training image generator for data augmentation\n",
        "aug = ImageDataGenerator(\n",
        "    rotation_range=20,\n",
        "    zoom_range=0.15,\n",
        "    width_shift_range=0.2,\n",
        "    height_shift_range=0.2,\n",
        "    shear_range=0.15,\n",
        "    horizontal_flip=True,\n",
        "    fill_mode=\"nearest\")\n",
        "\n",
        "# train the model\n",
        "history = model.fit(\n",
        "    aug.flow(X_train, y_train, batch_size=BS),\n",
        "    validation_data=(X_val, y_val),\n",
        "    steps_per_epoch=len(X_train) // BS,\n",
        "    epochs=EPOCHS,\n",
        "    callbacks=[reduce_lr, mc]\n",
        ")\n",
        "\n",
        "# We load the best weights saved by the ModelCheckpoint\n",
        "model.load_weights('./weights.h5')"
      ],
      "metadata": {
        "id": "XbHdw551IAp0",
        "outputId": "a2ed183d-d170-4a77-937e-6adafa4f6813",
        "colab": {
          "base_uri": "https://localhost:8080/"
        }
      },
      "execution_count": 102,
      "outputs": [
        {
          "output_type": "stream",
          "name": "stderr",
          "text": [
            "WARNING:absl:`lr` is deprecated in Keras optimizer, please use `learning_rate` or use the legacy optimizer, e.g.,tf.keras.optimizers.legacy.SGD.\n"
          ]
        },
        {
          "output_type": "stream",
          "name": "stdout",
          "text": [
            "Epoch 1/100\n",
            "17/17 [==============================] - ETA: 0s - loss: 3.8375 - accuracy: 0.0338"
          ]
        },
        {
          "output_type": "stream",
          "name": "stderr",
          "text": [
            "/usr/local/lib/python3.10/dist-packages/keras/src/engine/training.py:3103: UserWarning: You are saving your model as an HDF5 file via `model.save()`. This file format is considered legacy. We recommend using instead the native Keras format, e.g. `model.save('my_model.keras')`.\n",
            "  saving_api.save_model(\n"
          ]
        },
        {
          "output_type": "stream",
          "name": "stdout",
          "text": [
            "\b\b\b\b\b\b\b\b\b\b\b\b\b\b\b\b\b\b\b\b\b\b\b\b\b\b\b\b\b\b\b\b\b\b\b\b\b\b\b\b\b\b\b\b\b\b\b\b\b\b\b\b\b\b\b\b\b\b\b\b\b\b\b\b\b\b\b\b\b\b\b\b\b\b\b\b\b\b\b\b\b\b\r17/17 [==============================] - 128s 304ms/step - loss: 3.8375 - accuracy: 0.0338 - val_loss: 3.6405 - val_accuracy: 0.0730 - lr: 0.0010\n",
            "Epoch 2/100\n",
            "17/17 [==============================] - 2s 138ms/step - loss: 3.6360 - accuracy: 0.0734 - val_loss: 3.5084 - val_accuracy: 0.1092 - lr: 0.0010\n",
            "Epoch 3/100\n",
            "17/17 [==============================] - 3s 208ms/step - loss: 3.5327 - accuracy: 0.0864 - val_loss: 3.3634 - val_accuracy: 0.1150 - lr: 0.0010\n",
            "Epoch 4/100\n",
            "17/17 [==============================] - 3s 156ms/step - loss: 3.4324 - accuracy: 0.1096 - val_loss: 3.2387 - val_accuracy: 0.1504 - lr: 0.0010\n",
            "Epoch 5/100\n",
            "17/17 [==============================] - 3s 179ms/step - loss: 3.3364 - accuracy: 0.1284 - val_loss: 3.1468 - val_accuracy: 0.1721 - lr: 0.0010\n",
            "Epoch 6/100\n",
            "17/17 [==============================] - 3s 166ms/step - loss: 3.2484 - accuracy: 0.1480 - val_loss: 3.0652 - val_accuracy: 0.1822 - lr: 0.0010\n",
            "Epoch 7/100\n",
            "17/17 [==============================] - 3s 205ms/step - loss: 3.2115 - accuracy: 0.1544 - val_loss: 3.0498 - val_accuracy: 0.2082 - lr: 0.0010\n",
            "Epoch 8/100\n",
            "17/17 [==============================] - 2s 141ms/step - loss: 3.1621 - accuracy: 0.1646 - val_loss: 2.9685 - val_accuracy: 0.2176 - lr: 0.0010\n",
            "Epoch 9/100\n",
            "17/17 [==============================] - 2s 141ms/step - loss: 3.0687 - accuracy: 0.1834 - val_loss: 2.8946 - val_accuracy: 0.2184 - lr: 0.0010\n",
            "Epoch 10/100\n",
            "17/17 [==============================] - 3s 156ms/step - loss: 3.0175 - accuracy: 0.2008 - val_loss: 2.8428 - val_accuracy: 0.2299 - lr: 0.0010\n",
            "Epoch 11/100\n",
            "17/17 [==============================] - 3s 165ms/step - loss: 2.9455 - accuracy: 0.2095 - val_loss: 2.8757 - val_accuracy: 0.2422 - lr: 0.0010\n",
            "Epoch 12/100\n",
            "17/17 [==============================] - 3s 176ms/step - loss: 3.0266 - accuracy: 0.1882 - val_loss: 2.7974 - val_accuracy: 0.2422 - lr: 0.0010\n",
            "Epoch 13/100\n",
            "17/17 [==============================] - 3s 155ms/step - loss: 2.8966 - accuracy: 0.2066 - val_loss: 2.6536 - val_accuracy: 0.2574 - lr: 0.0010\n",
            "Epoch 14/100\n",
            "17/17 [==============================] - 2s 132ms/step - loss: 2.8824 - accuracy: 0.2114 - val_loss: 2.8042 - val_accuracy: 0.2386 - lr: 0.0010\n",
            "Epoch 15/100\n",
            "17/17 [==============================] - 3s 157ms/step - loss: 2.8736 - accuracy: 0.2278 - val_loss: 2.6760 - val_accuracy: 0.2625 - lr: 0.0010\n",
            "Epoch 16/100\n",
            "17/17 [==============================] - 3s 203ms/step - loss: 2.7374 - accuracy: 0.2558 - val_loss: 2.5381 - val_accuracy: 0.3073 - lr: 0.0010\n",
            "Epoch 17/100\n",
            "17/17 [==============================] - 2s 117ms/step - loss: 2.7511 - accuracy: 0.2495 - val_loss: 2.5619 - val_accuracy: 0.2813 - lr: 0.0010\n",
            "Epoch 18/100\n",
            "17/17 [==============================] - 2s 132ms/step - loss: 2.6989 - accuracy: 0.2592 - val_loss: 2.6296 - val_accuracy: 0.2827 - lr: 0.0010\n",
            "Epoch 19/100\n",
            "17/17 [==============================] - 2s 144ms/step - loss: 2.7391 - accuracy: 0.2548 - val_loss: 2.4790 - val_accuracy: 0.3290 - lr: 0.0010\n",
            "Epoch 20/100\n",
            "17/17 [==============================] - 3s 177ms/step - loss: 2.6061 - accuracy: 0.2891 - val_loss: 2.5146 - val_accuracy: 0.3102 - lr: 0.0010\n",
            "Epoch 21/100\n",
            "17/17 [==============================] - 2s 120ms/step - loss: 2.5470 - accuracy: 0.2996 - val_loss: 2.4679 - val_accuracy: 0.3254 - lr: 5.0000e-04\n",
            "Epoch 22/100\n",
            "17/17 [==============================] - 2s 133ms/step - loss: 2.4967 - accuracy: 0.3132 - val_loss: 2.4254 - val_accuracy: 0.3275 - lr: 5.0000e-04\n",
            "Epoch 23/100\n",
            "17/17 [==============================] - 2s 138ms/step - loss: 2.5291 - accuracy: 0.3084 - val_loss: 2.4195 - val_accuracy: 0.3485 - lr: 5.0000e-04\n",
            "Epoch 24/100\n",
            "17/17 [==============================] - 2s 115ms/step - loss: 2.4302 - accuracy: 0.3340 - val_loss: 2.4380 - val_accuracy: 0.3442 - lr: 5.0000e-04\n",
            "Epoch 25/100\n",
            "17/17 [==============================] - 2s 130ms/step - loss: 2.4315 - accuracy: 0.3248 - val_loss: 2.5505 - val_accuracy: 0.3333 - lr: 5.0000e-04\n",
            "Epoch 26/100\n",
            "17/17 [==============================] - 4s 207ms/step - loss: 2.3840 - accuracy: 0.3364 - val_loss: 2.3477 - val_accuracy: 0.3565 - lr: 5.0000e-04\n",
            "Epoch 27/100\n",
            "17/17 [==============================] - 3s 161ms/step - loss: 2.3540 - accuracy: 0.3470 - val_loss: 2.3055 - val_accuracy: 0.3666 - lr: 5.0000e-04\n",
            "Epoch 28/100\n",
            "17/17 [==============================] - 3s 169ms/step - loss: 2.4010 - accuracy: 0.3456 - val_loss: 2.2424 - val_accuracy: 0.3745 - lr: 5.0000e-04\n",
            "Epoch 29/100\n",
            "17/17 [==============================] - 2s 139ms/step - loss: 2.3757 - accuracy: 0.3576 - val_loss: 2.2348 - val_accuracy: 0.3847 - lr: 5.0000e-04\n",
            "Epoch 30/100\n",
            "17/17 [==============================] - 2s 144ms/step - loss: 2.2901 - accuracy: 0.3692 - val_loss: 2.2754 - val_accuracy: 0.3717 - lr: 5.0000e-04\n",
            "Epoch 31/100\n",
            "17/17 [==============================] - 3s 158ms/step - loss: 2.2866 - accuracy: 0.3745 - val_loss: 2.3343 - val_accuracy: 0.3774 - lr: 5.0000e-04\n",
            "Epoch 32/100\n",
            "17/17 [==============================] - 2s 116ms/step - loss: 2.3148 - accuracy: 0.3663 - val_loss: 2.4452 - val_accuracy: 0.3427 - lr: 5.0000e-04\n",
            "Epoch 33/100\n",
            "17/17 [==============================] - 2s 133ms/step - loss: 2.2532 - accuracy: 0.3818 - val_loss: 2.2748 - val_accuracy: 0.3818 - lr: 5.0000e-04\n",
            "Epoch 34/100\n",
            "17/17 [==============================] - 2s 133ms/step - loss: 2.2556 - accuracy: 0.3875 - val_loss: 2.3108 - val_accuracy: 0.3630 - lr: 5.0000e-04\n",
            "Epoch 35/100\n",
            "17/17 [==============================] - 2s 140ms/step - loss: 2.2629 - accuracy: 0.3760 - val_loss: 2.2530 - val_accuracy: 0.3926 - lr: 5.0000e-04\n",
            "Epoch 36/100\n",
            "17/17 [==============================] - 3s 172ms/step - loss: 2.1915 - accuracy: 0.3977 - val_loss: 2.2203 - val_accuracy: 0.3847 - lr: 5.0000e-04\n",
            "Epoch 37/100\n",
            "17/17 [==============================] - 2s 132ms/step - loss: 2.1572 - accuracy: 0.3986 - val_loss: 2.2519 - val_accuracy: 0.3774 - lr: 5.0000e-04\n",
            "Epoch 38/100\n",
            "17/17 [==============================] - 2s 140ms/step - loss: 2.2178 - accuracy: 0.3668 - val_loss: 2.2508 - val_accuracy: 0.3941 - lr: 5.0000e-04\n",
            "Epoch 39/100\n",
            "17/17 [==============================] - 2s 140ms/step - loss: 2.1578 - accuracy: 0.4049 - val_loss: 2.1493 - val_accuracy: 0.4121 - lr: 5.0000e-04\n",
            "Epoch 40/100\n",
            "17/17 [==============================] - 2s 143ms/step - loss: 2.1144 - accuracy: 0.4126 - val_loss: 2.1627 - val_accuracy: 0.4121 - lr: 5.0000e-04\n",
            "Epoch 41/100\n",
            "17/17 [==============================] - 3s 159ms/step - loss: 2.1497 - accuracy: 0.4012 - val_loss: 2.1387 - val_accuracy: 0.4121 - lr: 2.5000e-04\n",
            "Epoch 42/100\n",
            "17/17 [==============================] - 2s 144ms/step - loss: 2.0899 - accuracy: 0.4228 - val_loss: 2.1736 - val_accuracy: 0.4179 - lr: 2.5000e-04\n",
            "Epoch 43/100\n",
            "17/17 [==============================] - 3s 155ms/step - loss: 2.0281 - accuracy: 0.4363 - val_loss: 2.0513 - val_accuracy: 0.4309 - lr: 2.5000e-04\n",
            "Epoch 44/100\n",
            "17/17 [==============================] - 2s 139ms/step - loss: 2.0731 - accuracy: 0.4295 - val_loss: 2.0372 - val_accuracy: 0.4375 - lr: 2.5000e-04\n",
            "Epoch 45/100\n",
            "17/17 [==============================] - 2s 119ms/step - loss: 2.0466 - accuracy: 0.4542 - val_loss: 2.0411 - val_accuracy: 0.4353 - lr: 2.5000e-04\n",
            "Epoch 46/100\n",
            "17/17 [==============================] - 3s 202ms/step - loss: 2.0171 - accuracy: 0.4247 - val_loss: 2.0356 - val_accuracy: 0.4403 - lr: 2.5000e-04\n",
            "Epoch 47/100\n",
            "17/17 [==============================] - 2s 145ms/step - loss: 2.0108 - accuracy: 0.4295 - val_loss: 2.0575 - val_accuracy: 0.4483 - lr: 2.5000e-04\n",
            "Epoch 48/100\n",
            "17/17 [==============================] - 2s 115ms/step - loss: 1.9933 - accuracy: 0.4445 - val_loss: 2.1615 - val_accuracy: 0.4107 - lr: 2.5000e-04\n",
            "Epoch 49/100\n",
            "17/17 [==============================] - 2s 119ms/step - loss: 2.0031 - accuracy: 0.4406 - val_loss: 2.0542 - val_accuracy: 0.4338 - lr: 2.5000e-04\n",
            "Epoch 50/100\n",
            "17/17 [==============================] - 2s 117ms/step - loss: 1.9940 - accuracy: 0.4339 - val_loss: 2.1438 - val_accuracy: 0.4252 - lr: 2.5000e-04\n",
            "Epoch 51/100\n",
            "17/17 [==============================] - 2s 148ms/step - loss: 1.9865 - accuracy: 0.4686 - val_loss: 2.2131 - val_accuracy: 0.3991 - lr: 2.5000e-04\n",
            "Epoch 52/100\n",
            "17/17 [==============================] - 3s 156ms/step - loss: 1.9893 - accuracy: 0.4459 - val_loss: 2.2121 - val_accuracy: 0.4165 - lr: 2.5000e-04\n",
            "Epoch 53/100\n",
            "17/17 [==============================] - 2s 133ms/step - loss: 2.0112 - accuracy: 0.4406 - val_loss: 2.0365 - val_accuracy: 0.4432 - lr: 2.5000e-04\n",
            "Epoch 54/100\n",
            "17/17 [==============================] - 2s 116ms/step - loss: 1.9663 - accuracy: 0.4585 - val_loss: 2.0477 - val_accuracy: 0.4309 - lr: 2.5000e-04\n",
            "Epoch 55/100\n",
            "17/17 [==============================] - 2s 133ms/step - loss: 1.9253 - accuracy: 0.4710 - val_loss: 2.0376 - val_accuracy: 0.4382 - lr: 2.5000e-04\n",
            "Epoch 56/100\n",
            "17/17 [==============================] - 3s 201ms/step - loss: 1.9126 - accuracy: 0.4619 - val_loss: 2.0404 - val_accuracy: 0.4519 - lr: 2.5000e-04\n",
            "Epoch 57/100\n",
            "17/17 [==============================] - 2s 115ms/step - loss: 1.9212 - accuracy: 0.4778 - val_loss: 2.0169 - val_accuracy: 0.4519 - lr: 2.5000e-04\n",
            "Epoch 58/100\n",
            "17/17 [==============================] - 2s 116ms/step - loss: 1.8954 - accuracy: 0.4812 - val_loss: 2.0180 - val_accuracy: 0.4396 - lr: 2.5000e-04\n",
            "Epoch 59/100\n",
            "17/17 [==============================] - 2s 140ms/step - loss: 1.8769 - accuracy: 0.4672 - val_loss: 1.9842 - val_accuracy: 0.4678 - lr: 2.5000e-04\n",
            "Epoch 60/100\n",
            "17/17 [==============================] - 2s 120ms/step - loss: 1.8764 - accuracy: 0.4797 - val_loss: 1.9862 - val_accuracy: 0.4570 - lr: 2.5000e-04\n",
            "Epoch 61/100\n",
            "17/17 [==============================] - 3s 186ms/step - loss: 1.8728 - accuracy: 0.4937 - val_loss: 2.0148 - val_accuracy: 0.4577 - lr: 1.2500e-04\n",
            "Epoch 62/100\n",
            "17/17 [==============================] - 2s 123ms/step - loss: 1.8443 - accuracy: 0.4908 - val_loss: 1.9806 - val_accuracy: 0.4563 - lr: 1.2500e-04\n",
            "Epoch 63/100\n",
            "17/17 [==============================] - 2s 142ms/step - loss: 1.8463 - accuracy: 0.4807 - val_loss: 1.9511 - val_accuracy: 0.4722 - lr: 1.2500e-04\n",
            "Epoch 64/100\n",
            "17/17 [==============================] - 2s 132ms/step - loss: 1.8483 - accuracy: 0.4894 - val_loss: 1.9572 - val_accuracy: 0.4613 - lr: 1.2500e-04\n",
            "Epoch 65/100\n",
            "17/17 [==============================] - 2s 144ms/step - loss: 1.8399 - accuracy: 0.4894 - val_loss: 1.9375 - val_accuracy: 0.4751 - lr: 1.2500e-04\n",
            "Epoch 66/100\n",
            "17/17 [==============================] - 3s 157ms/step - loss: 1.8324 - accuracy: 0.4855 - val_loss: 1.9949 - val_accuracy: 0.4555 - lr: 1.2500e-04\n",
            "Epoch 67/100\n",
            "17/17 [==============================] - 2s 117ms/step - loss: 1.8166 - accuracy: 0.4971 - val_loss: 2.0021 - val_accuracy: 0.4534 - lr: 1.2500e-04\n",
            "Epoch 68/100\n",
            "17/17 [==============================] - 2s 132ms/step - loss: 1.8426 - accuracy: 0.4850 - val_loss: 2.0382 - val_accuracy: 0.4584 - lr: 1.2500e-04\n",
            "Epoch 69/100\n",
            "17/17 [==============================] - 2s 133ms/step - loss: 1.8016 - accuracy: 0.5125 - val_loss: 1.9570 - val_accuracy: 0.4671 - lr: 1.2500e-04\n",
            "Epoch 70/100\n",
            "17/17 [==============================] - 3s 168ms/step - loss: 1.7663 - accuracy: 0.4971 - val_loss: 1.9491 - val_accuracy: 0.4765 - lr: 1.2500e-04\n",
            "Epoch 71/100\n",
            "17/17 [==============================] - 3s 185ms/step - loss: 1.7895 - accuracy: 0.5051 - val_loss: 1.9551 - val_accuracy: 0.4685 - lr: 1.2500e-04\n",
            "Epoch 72/100\n",
            "17/17 [==============================] - 3s 163ms/step - loss: 1.8188 - accuracy: 0.4971 - val_loss: 1.9068 - val_accuracy: 0.4823 - lr: 1.2500e-04\n",
            "Epoch 73/100\n",
            "17/17 [==============================] - 2s 134ms/step - loss: 1.8180 - accuracy: 0.4899 - val_loss: 1.9947 - val_accuracy: 0.4577 - lr: 1.2500e-04\n",
            "Epoch 74/100\n",
            "17/17 [==============================] - 2s 136ms/step - loss: 1.7446 - accuracy: 0.5175 - val_loss: 2.0068 - val_accuracy: 0.4584 - lr: 1.2500e-04\n",
            "Epoch 75/100\n",
            "17/17 [==============================] - 2s 134ms/step - loss: 1.7837 - accuracy: 0.5039 - val_loss: 2.1013 - val_accuracy: 0.4331 - lr: 1.2500e-04\n",
            "Epoch 76/100\n",
            "17/17 [==============================] - 3s 192ms/step - loss: 1.7842 - accuracy: 0.5005 - val_loss: 2.0856 - val_accuracy: 0.4534 - lr: 1.2500e-04\n",
            "Epoch 77/100\n",
            "17/17 [==============================] - 2s 132ms/step - loss: 1.7970 - accuracy: 0.4981 - val_loss: 2.1254 - val_accuracy: 0.4389 - lr: 1.2500e-04\n",
            "Epoch 78/100\n",
            "17/17 [==============================] - 2s 134ms/step - loss: 1.7791 - accuracy: 0.4932 - val_loss: 2.0065 - val_accuracy: 0.4751 - lr: 1.2500e-04\n",
            "Epoch 79/100\n",
            "17/17 [==============================] - 2s 135ms/step - loss: 1.7540 - accuracy: 0.5092 - val_loss: 1.9769 - val_accuracy: 0.4794 - lr: 1.2500e-04\n",
            "Epoch 80/100\n",
            "17/17 [==============================] - 2s 132ms/step - loss: 1.7697 - accuracy: 0.5024 - val_loss: 2.0364 - val_accuracy: 0.4555 - lr: 1.2500e-04\n",
            "Epoch 81/100\n",
            "17/17 [==============================] - 3s 168ms/step - loss: 1.7773 - accuracy: 0.5150 - val_loss: 1.9881 - val_accuracy: 0.4722 - lr: 6.2500e-05\n",
            "Epoch 82/100\n",
            "17/17 [==============================] - 3s 196ms/step - loss: 1.7571 - accuracy: 0.5125 - val_loss: 1.9788 - val_accuracy: 0.4808 - lr: 6.2500e-05\n",
            "Epoch 83/100\n",
            "17/17 [==============================] - 3s 177ms/step - loss: 1.7298 - accuracy: 0.5140 - val_loss: 1.9181 - val_accuracy: 0.4837 - lr: 6.2500e-05\n",
            "Epoch 84/100\n",
            "17/17 [==============================] - 2s 143ms/step - loss: 1.7253 - accuracy: 0.5212 - val_loss: 1.9029 - val_accuracy: 0.4866 - lr: 6.2500e-05\n",
            "Epoch 85/100\n",
            "17/17 [==============================] - 2s 118ms/step - loss: 1.7258 - accuracy: 0.5208 - val_loss: 1.9200 - val_accuracy: 0.4845 - lr: 6.2500e-05\n",
            "Epoch 86/100\n",
            "17/17 [==============================] - 3s 159ms/step - loss: 1.7063 - accuracy: 0.5198 - val_loss: 1.9518 - val_accuracy: 0.4714 - lr: 6.2500e-05\n",
            "Epoch 87/100\n",
            "17/17 [==============================] - 3s 159ms/step - loss: 1.7465 - accuracy: 0.5188 - val_loss: 1.8686 - val_accuracy: 0.4967 - lr: 6.2500e-05\n",
            "Epoch 88/100\n",
            "17/17 [==============================] - 2s 121ms/step - loss: 1.7162 - accuracy: 0.5280 - val_loss: 1.9722 - val_accuracy: 0.4700 - lr: 6.2500e-05\n",
            "Epoch 89/100\n",
            "17/17 [==============================] - 2s 117ms/step - loss: 1.7288 - accuracy: 0.5193 - val_loss: 1.8803 - val_accuracy: 0.4895 - lr: 6.2500e-05\n",
            "Epoch 90/100\n",
            "17/17 [==============================] - 2s 124ms/step - loss: 1.6949 - accuracy: 0.5125 - val_loss: 1.9296 - val_accuracy: 0.4866 - lr: 6.2500e-05\n",
            "Epoch 91/100\n",
            "17/17 [==============================] - 3s 161ms/step - loss: 1.7254 - accuracy: 0.5227 - val_loss: 1.8912 - val_accuracy: 0.4902 - lr: 6.2500e-05\n",
            "Epoch 92/100\n",
            "17/17 [==============================] - 2s 131ms/step - loss: 1.7282 - accuracy: 0.5140 - val_loss: 1.8706 - val_accuracy: 0.4960 - lr: 6.2500e-05\n",
            "Epoch 93/100\n",
            "17/17 [==============================] - 2s 119ms/step - loss: 1.7064 - accuracy: 0.5404 - val_loss: 1.8832 - val_accuracy: 0.4881 - lr: 6.2500e-05\n",
            "Epoch 94/100\n",
            "17/17 [==============================] - 2s 133ms/step - loss: 1.7001 - accuracy: 0.5241 - val_loss: 1.8873 - val_accuracy: 0.4967 - lr: 6.2500e-05\n",
            "Epoch 95/100\n",
            "17/17 [==============================] - 2s 117ms/step - loss: 1.7051 - accuracy: 0.5183 - val_loss: 1.8944 - val_accuracy: 0.4931 - lr: 6.2500e-05\n",
            "Epoch 96/100\n",
            "17/17 [==============================] - 3s 162ms/step - loss: 1.7091 - accuracy: 0.5280 - val_loss: 1.9250 - val_accuracy: 0.4729 - lr: 6.2500e-05\n",
            "Epoch 97/100\n",
            "17/17 [==============================] - 2s 117ms/step - loss: 1.6880 - accuracy: 0.5352 - val_loss: 1.9444 - val_accuracy: 0.4736 - lr: 6.2500e-05\n",
            "Epoch 98/100\n",
            "17/17 [==============================] - 3s 158ms/step - loss: 1.7044 - accuracy: 0.5275 - val_loss: 1.8516 - val_accuracy: 0.4989 - lr: 6.2500e-05\n",
            "Epoch 99/100\n",
            "17/17 [==============================] - 2s 134ms/step - loss: 1.6779 - accuracy: 0.5285 - val_loss: 1.9116 - val_accuracy: 0.4837 - lr: 6.2500e-05\n",
            "Epoch 100/100\n",
            "17/17 [==============================] - 2s 140ms/step - loss: 1.6798 - accuracy: 0.5208 - val_loss: 1.8705 - val_accuracy: 0.4939 - lr: 6.2500e-05\n"
          ]
        }
      ]
    },
    {
      "cell_type": "code",
      "source": [],
      "metadata": {
        "id": "IZ956Vy_OUVS"
      },
      "execution_count": null,
      "outputs": []
    }
  ]
}