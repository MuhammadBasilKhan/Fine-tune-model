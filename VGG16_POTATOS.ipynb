{
  "nbformat": 4,
  "nbformat_minor": 0,
  "metadata": {
    "colab": {
      "provenance": [],
      "gpuType": "T4",
      "authorship_tag": "ABX9TyOhK8Be+043VKFUEMtKktoU",
      "include_colab_link": true
    },
    "kernelspec": {
      "name": "python3",
      "display_name": "Python 3"
    },
    "language_info": {
      "name": "python"
    },
    "accelerator": "GPU"
  },
  "cells": [
    {
      "cell_type": "markdown",
      "metadata": {
        "id": "view-in-github",
        "colab_type": "text"
      },
      "source": [
        "<a href=\"https://colab.research.google.com/github/MuhammadBasilKhan/Fine-tune-model/blob/main/VGG16_POTATOS.ipynb\" target=\"_parent\"><img src=\"https://colab.research.google.com/assets/colab-badge.svg\" alt=\"Open In Colab\"/></a>"
      ]
    },
    {
      "cell_type": "code",
      "execution_count": 1,
      "metadata": {
        "colab": {
          "base_uri": "https://localhost:8080/"
        },
        "id": "0YFeciotfQc2",
        "outputId": "ebc74c19-172e-43d7-fa28-705045b879ff"
      },
      "outputs": [
        {
          "output_type": "stream",
          "name": "stdout",
          "text": [
            "Mounted at /content/drive\n"
          ]
        }
      ],
      "source": [
        "from google.colab import drive\n",
        "drive.mount('/content/drive')\n"
      ]
    },
    {
      "cell_type": "code",
      "source": [
        "import tensorflow as tf\n",
        "from tensorflow.keras import models,layers\n",
        "import matplotlib.pyplot as plt"
      ],
      "metadata": {
        "id": "VBL5LVghkLxc"
      },
      "execution_count": 2,
      "outputs": []
    },
    {
      "cell_type": "code",
      "source": [
        "import tensorflow as tf\n",
        "from tensorflow.keras.preprocessing.image import ImageDataGenerator\n"
      ],
      "metadata": {
        "id": "5aBaegxXhph4"
      },
      "execution_count": 3,
      "outputs": []
    },
    {
      "cell_type": "code",
      "source": [
        "IMAGE_SIZE = (224, 224)\n",
        "BATCH_SIZE = 32\n",
        "NUM_CLASSES = 3\n",
        "EPOCHS = 10"
      ],
      "metadata": {
        "id": "xkJYEv-_h_7O"
      },
      "execution_count": 4,
      "outputs": []
    },
    {
      "cell_type": "code",
      "source": [
        "train=tf.keras.preprocessing.image_dataset_from_directory(\"/content/drive/MyDrive/drive/potatos diseases/PLD_3_Classes_256/Training\",\n",
        "                                                    shuffle=True,\n",
        "                                                    image_size=(IMAGE_SIZE),\n",
        "                                                    batch_size=BATCH_SIZE)\n",
        "\n",
        ""
      ],
      "metadata": {
        "colab": {
          "base_uri": "https://localhost:8080/"
        },
        "id": "NL8Ql067jAIK",
        "outputId": "0f66e00b-d313-43af-ac0d-07380af90d92"
      },
      "execution_count": 5,
      "outputs": [
        {
          "output_type": "stream",
          "name": "stdout",
          "text": [
            "Found 3251 files belonging to 3 classes.\n"
          ]
        }
      ]
    },
    {
      "cell_type": "code",
      "source": [
        "test=tf.keras.preprocessing.image_dataset_from_directory(\"/content/drive/MyDrive/drive/potatos diseases/PLD_3_Classes_256/Testing\",\n",
        "                                                    shuffle=True,\n",
        "                                                    image_size=(IMAGE_SIZE),\n",
        "                                                    batch_size=BATCH_SIZE)\n",
        "\n",
        ""
      ],
      "metadata": {
        "colab": {
          "base_uri": "https://localhost:8080/"
        },
        "id": "Vov5VY0djFAA",
        "outputId": "40338f3c-b802-4659-8a9c-ce9d38aba822"
      },
      "execution_count": 6,
      "outputs": [
        {
          "output_type": "stream",
          "name": "stdout",
          "text": [
            "Found 405 files belonging to 3 classes.\n"
          ]
        }
      ]
    },
    {
      "cell_type": "code",
      "source": [
        "validation=tf.keras.preprocessing.image_dataset_from_directory(\"/content/drive/MyDrive/drive/potatos diseases/PLD_3_Classes_256/Validation\",\n",
        "                                                    shuffle=True,\n",
        "                                                    image_size=(IMAGE_SIZE),\n",
        "                                                    batch_size=BATCH_SIZE)\n"
      ],
      "metadata": {
        "colab": {
          "base_uri": "https://localhost:8080/"
        },
        "id": "XM7DdvvOkc5q",
        "outputId": "1eb89cc0-1ff1-4b8a-dd14-15845e006b33"
      },
      "execution_count": 7,
      "outputs": [
        {
          "output_type": "stream",
          "name": "stdout",
          "text": [
            "Found 416 files belonging to 3 classes.\n"
          ]
        }
      ]
    },
    {
      "cell_type": "code",
      "source": [
        "AUTOTUNE = tf.data.experimental.AUTOTUNE\n",
        "train_dataset = train.prefetch(buffer_size=AUTOTUNE)\n",
        "validation_dataset = validation.prefetch(buffer_size=AUTOTUNE)\n",
        "test_dataset = test.prefetch(buffer_size=AUTOTUNE)"
      ],
      "metadata": {
        "id": "ki8Gsj78mgUM"
      },
      "execution_count": 8,
      "outputs": []
    },
    {
      "cell_type": "code",
      "source": [
        "def vgg16_model(input_shape=(224, 224, 3), num_classes=3):\n",
        "    base_model = tf.keras.applications.VGG16(weights='imagenet', include_top=False, input_shape=input_shape)\n",
        "    for layer in base_model.layers:\n",
        "        layer.trainable = False\n",
        "    x = tf.keras.layers.Flatten()(base_model.output)\n",
        "    x = tf.keras.layers.Dense(4096, activation='relu')(x)\n",
        "    x = tf.keras.layers.Dense(4096, activation='relu')(x)\n",
        "    output = tf.keras.layers.Dense(num_classes, activation='softmax')(x)\n",
        "    model = tf.keras.Model(inputs=base_model.input, outputs=output)\n",
        "    return model"
      ],
      "metadata": {
        "id": "_qgC0zfqmrJD"
      },
      "execution_count": 9,
      "outputs": []
    },
    {
      "cell_type": "code",
      "source": [
        "model = vgg16_model(input_shape=(*IMAGE_SIZE, 3), num_classes=NUM_CLASSES)\n",
        "\n"
      ],
      "metadata": {
        "colab": {
          "base_uri": "https://localhost:8080/"
        },
        "id": "vNS0zPiRm_21",
        "outputId": "7e1e0307-e6e2-4b04-ecce-9434d6182759"
      },
      "execution_count": 10,
      "outputs": [
        {
          "output_type": "stream",
          "name": "stdout",
          "text": [
            "Downloading data from https://storage.googleapis.com/tensorflow/keras-applications/vgg16/vgg16_weights_tf_dim_ordering_tf_kernels_notop.h5\n",
            "58889256/58889256 [==============================] - 0s 0us/step\n"
          ]
        }
      ]
    },
    {
      "cell_type": "code",
      "source": [
        "model.compile(optimizer='adam', loss='sparse_categorical_crossentropy', metrics=['accuracy'])\n"
      ],
      "metadata": {
        "id": "NC-mAAGVnBu0"
      },
      "execution_count": 11,
      "outputs": []
    },
    {
      "cell_type": "code",
      "source": [
        "history = model.fit(\n",
        "    train_dataset,\n",
        "    epochs=EPOCHS,\n",
        "    validation_data=validation_dataset\n",
        ")"
      ],
      "metadata": {
        "colab": {
          "base_uri": "https://localhost:8080/"
        },
        "id": "1JcqG0HznBrP",
        "outputId": "3f5ee9ec-70f0-4dca-e79d-85a69cd502bf"
      },
      "execution_count": 12,
      "outputs": [
        {
          "output_type": "stream",
          "name": "stdout",
          "text": [
            "Epoch 1/10\n",
            "102/102 [==============================] - 437s 4s/step - loss: 13.6033 - accuracy: 0.8228 - val_loss: 0.2467 - val_accuracy: 0.9062\n",
            "Epoch 2/10\n",
            "102/102 [==============================] - 21s 195ms/step - loss: 0.3947 - accuracy: 0.9314 - val_loss: 0.2443 - val_accuracy: 0.9159\n",
            "Epoch 3/10\n",
            "102/102 [==============================] - 20s 190ms/step - loss: 0.0789 - accuracy: 0.9748 - val_loss: 0.5017 - val_accuracy: 0.8846\n",
            "Epoch 4/10\n",
            "102/102 [==============================] - 21s 199ms/step - loss: 0.0625 - accuracy: 0.9840 - val_loss: 0.4792 - val_accuracy: 0.9135\n",
            "Epoch 5/10\n",
            "102/102 [==============================] - 20s 189ms/step - loss: 0.0633 - accuracy: 0.9840 - val_loss: 0.4120 - val_accuracy: 0.9255\n",
            "Epoch 6/10\n",
            "102/102 [==============================] - 21s 193ms/step - loss: 0.0918 - accuracy: 0.9772 - val_loss: 0.7499 - val_accuracy: 0.9038\n",
            "Epoch 7/10\n",
            "102/102 [==============================] - 20s 189ms/step - loss: 0.1107 - accuracy: 0.9772 - val_loss: 0.7811 - val_accuracy: 0.8990\n",
            "Epoch 8/10\n",
            "102/102 [==============================] - 21s 195ms/step - loss: 0.1435 - accuracy: 0.9723 - val_loss: 0.4670 - val_accuracy: 0.9231\n",
            "Epoch 9/10\n",
            "102/102 [==============================] - 21s 191ms/step - loss: 0.0530 - accuracy: 0.9889 - val_loss: 0.9408 - val_accuracy: 0.9038\n",
            "Epoch 10/10\n",
            "102/102 [==============================] - 21s 196ms/step - loss: 0.0365 - accuracy: 0.9920 - val_loss: 0.6386 - val_accuracy: 0.9279\n"
          ]
        }
      ]
    },
    {
      "cell_type": "code",
      "source": [
        "test_loss, test_acc = model.evaluate(test_dataset)\n",
        "print('Test accuracy:', test_acc,test_loss)"
      ],
      "metadata": {
        "colab": {
          "base_uri": "https://localhost:8080/"
        },
        "id": "7N-IgDCwnBn_",
        "outputId": "bbc07428-b0c5-4393-e600-7f4df0722932"
      },
      "execution_count": 15,
      "outputs": [
        {
          "output_type": "stream",
          "name": "stdout",
          "text": [
            "13/13 [==============================] - 3s 136ms/step - loss: 0.8041 - accuracy: 0.9160\n",
            "Test accuracy: 0.9160493612289429 0.8041433095932007\n"
          ]
        }
      ]
    },
    {
      "cell_type": "code",
      "source": [],
      "metadata": {
        "id": "lefY7vZ6nBlW"
      },
      "execution_count": null,
      "outputs": []
    },
    {
      "cell_type": "code",
      "source": [],
      "metadata": {
        "id": "nx8Zteb8nA0o"
      },
      "execution_count": null,
      "outputs": []
    }
  ]
}